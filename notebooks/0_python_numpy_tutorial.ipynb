{
  "cells": [
    {
      "cell_type": "markdown",
      "metadata": {
        "id": "view-in-github",
        "colab_type": "text"
      },
      "source": [
        "<a href=\"https://colab.research.google.com/github/AgainstEntropy/ECE-GY-6143-ML/blob/main/0_python_numpy_tutorial.ipynb\" target=\"_parent\"><img src=\"https://colab.research.google.com/assets/colab-badge.svg\" alt=\"Open In Colab\"/></a>"
      ]
    },
    {
      "cell_type": "markdown",
      "metadata": {
        "id": "85a90482-723e-4832-81a8-b20e81dbfe08"
      },
      "source": [
        "# Python Crash Course\n",
        "\n",
        "*Fraida Fund*"
      ],
      "id": "85a90482-723e-4832-81a8-b20e81dbfe08"
    },
    {
      "cell_type": "markdown",
      "metadata": {
        "id": "3dcb5b8f-1cb6-4a42-b42d-325b8ea60c26"
      },
      "source": [
        "**Attribution**:\n",
        "\n",
        "-   Parts of this notebook are adapted from a [tutorial from CS231N at Stanford University](https://cs231n.github.io/python-numpy-tutorial/), which is shared under the [MIT license]((https://opensource.org/licenses/MIT)).\n",
        "-   Parts of this notebook are adapted from Jake VanderPlas’s [Whirlwind Tour of Python](https://colab.research.google.com/github/jakevdp/WhirlwindTourOfPython/blob/master/Index.ipynb), which is shared under the [Creative Commons CC0 Public Domain Dedication license](https://github.com/jakevdp/WhirlwindTourOfPython/blob/master/LICENSE).\n",
        "-   The visualizations in this notebook are from [A Visual Intro to NumPy](http://jalammar.github.io/visual-numpy/) by Jay Alammar, which is licensed under a Creative Commons Attribution-NonCommercial-ShareAlike 4.0 International License.\n",
        "-   Parts of this notebook (and some images) about `numpy` broadcasting are adapted from Sebastian Raschka’s [STATS451](https://github.com/rasbt/stat451-machine-learning-fs20) materials."
      ],
      "id": "3dcb5b8f-1cb6-4a42-b42d-325b8ea60c26"
    },
    {
      "cell_type": "markdown",
      "metadata": {
        "id": "32e00d7e-0fdf-4135-9e52-cd47d5b6edd9"
      },
      "source": [
        "## Introduction"
      ],
      "id": "32e00d7e-0fdf-4135-9e52-cd47d5b6edd9"
    },
    {
      "cell_type": "markdown",
      "metadata": {
        "id": "79b0b1f8-4cd5-49ce-93b7-79303a5713cc"
      },
      "source": [
        "Python is a great general-purpose programming language on its own, but with the help of a few popular *libraries* (`numpy`, `pandas`, `matplotlib`) it becomes a powerful environment for scientific computing."
      ],
      "id": "79b0b1f8-4cd5-49ce-93b7-79303a5713cc"
    },
    {
      "cell_type": "markdown",
      "metadata": {
        "id": "b686c160-4ab1-42f6-b7e5-f04aca5c003c"
      },
      "source": [
        "This tutorial is an introduction to Python and the `numpy` library for those who are already familiar with programming in another language.\n",
        "\n",
        "In this tutorial, we will cover:\n",
        "\n",
        "-   Basic Python: Basic data types, Containers (Lists, Dictionaries,, Tuples), Control Flow Statements, Errors and Exceptions, Functions, Classes\n",
        "-   `numpy`: Arrays, Array indexing, Datatypes, Array math, Broadcasting\n",
        "-   `matplotlib`: Basic Visualization, Subplots, Image Visualization"
      ],
      "id": "b686c160-4ab1-42f6-b7e5-f04aca5c003c"
    },
    {
      "cell_type": "markdown",
      "metadata": {
        "id": "a92e9382-ed40-489b-b2cb-7735c1ad3e7c"
      },
      "source": [
        "This tutorial is designed to run as a Python notebook on Colab. We’ll take a closer look at Colab and its features in a separate tutorial, but for now, here is what you need to know:\n",
        "\n",
        "-   When you see a “cell” with Python code in it, move your mouse over the margin on the left side of the cell. A \\> button will appear - click on that button to execute the code in the cell.\n",
        "-   The output of the code will appear underneath the cell.\n",
        "-   You can edit the code in the cell and press the \\> button again to execute the modified code.\n",
        "\n",
        "As you work through this tutorial, look at the code in each cell, and try to predict its output before you run it! Then, run the cell and check your understanding. You can also try to modify the code and observe the effect of your changes."
      ],
      "id": "a92e9382-ed40-489b-b2cb-7735c1ad3e7c"
    },
    {
      "cell_type": "markdown",
      "metadata": {
        "id": "bbd9d3fc-8cf8-4fcf-a983-d77a9e6ee9c3"
      },
      "source": [
        "## A Brief Note on Python Versions\n",
        "\n",
        "As of Janurary 1, 2020, Python has [officially dropped support](https://www.python.org/doc/sunset-python-2/) for `python2`. We’ll be using Python 3 for this course."
      ],
      "id": "bbd9d3fc-8cf8-4fcf-a983-d77a9e6ee9c3"
    },
    {
      "cell_type": "markdown",
      "metadata": {
        "id": "8bbd2d58-e39d-4a80-988d-ab29c4670915"
      },
      "source": [
        "## Basics of Python"
      ],
      "id": "8bbd2d58-e39d-4a80-988d-ab29c4670915"
    },
    {
      "cell_type": "markdown",
      "metadata": {
        "id": "88dc485a-9a2d-43ec-a15b-90f1fb7ff84c"
      },
      "source": [
        "Python is a high-level, dynamically typed multiparadigm programming language. Python code is often said to be almost like pseudocode, since it allows you to express very powerful ideas in very few lines of code while being very readable. As an example, here is an implementation of the classic quicksort algorithm in Python:"
      ],
      "id": "88dc485a-9a2d-43ec-a15b-90f1fb7ff84c"
    },
    {
      "cell_type": "code",
      "execution_count": null,
      "metadata": {
        "id": "89438396-46ee-407d-b987-4175f81dfc38",
        "colab": {
          "base_uri": "https://localhost:8080/"
        },
        "outputId": "15a380b5-b948-4527-ba93-8630c551ab66"
      },
      "outputs": [
        {
          "output_type": "stream",
          "name": "stdout",
          "text": [
            "[1, 1, 2, 3, 6, 8, 10]\n"
          ]
        }
      ],
      "source": [
        "def quicksort(arr):\n",
        "    if len(arr) <= 1:\n",
        "        return arr\n",
        "    pivot = arr[len(arr) // 2]\n",
        "    left = [x for x in arr if x < pivot]\n",
        "    middle = [x for x in arr if x == pivot]\n",
        "    right = [x for x in arr if x > pivot]\n",
        "    return quicksort(left) + middle + quicksort(right)\n",
        "\n",
        "print(quicksort([3,6,8,10,1,2,1]))"
      ],
      "id": "89438396-46ee-407d-b987-4175f81dfc38"
    },
    {
      "cell_type": "markdown",
      "metadata": {
        "id": "71a53938-9375-41d8-a419-c795acd4bd6f"
      },
      "source": [
        "### Basic data types"
      ],
      "id": "71a53938-9375-41d8-a419-c795acd4bd6f"
    },
    {
      "cell_type": "markdown",
      "metadata": {
        "id": "398988ea-8c35-4593-a70b-a4f2610018d9"
      },
      "source": [
        "#### Numbers"
      ],
      "id": "398988ea-8c35-4593-a70b-a4f2610018d9"
    },
    {
      "cell_type": "markdown",
      "metadata": {
        "id": "00bb8d35-b4d3-40e6-9466-4a94d11a38ea"
      },
      "source": [
        "Integers and floats work as you would expect from other languages:"
      ],
      "id": "00bb8d35-b4d3-40e6-9466-4a94d11a38ea"
    },
    {
      "cell_type": "code",
      "execution_count": null,
      "metadata": {
        "id": "4d637168-85e5-4cf3-b02b-6430ecdbf69e",
        "colab": {
          "base_uri": "https://localhost:8080/"
        },
        "outputId": "45ba3938-5c2b-4188-f9af-eea468478cd8"
      },
      "outputs": [
        {
          "output_type": "stream",
          "name": "stdout",
          "text": [
            "3 <class 'int'>\n"
          ]
        }
      ],
      "source": [
        "x = 3\n",
        "print(x, type(x))"
      ],
      "id": "4d637168-85e5-4cf3-b02b-6430ecdbf69e"
    },
    {
      "cell_type": "markdown",
      "metadata": {
        "id": "ee8eb002-fc25-49c2-84d6-d8e6423648dc"
      },
      "source": [
        "By the way: note that you did not have to declare the variable `x` or specify its type before you assigned a value to it. In Python, you can create a variable just by assigning something to it."
      ],
      "id": "ee8eb002-fc25-49c2-84d6-d8e6423648dc"
    },
    {
      "cell_type": "code",
      "execution_count": null,
      "metadata": {
        "id": "83f9f364-4260-47bc-b7c3-e9c643b8f134",
        "colab": {
          "base_uri": "https://localhost:8080/"
        },
        "outputId": "85f22fa0-009e-44ec-8b79-12aaecb9fd62"
      },
      "outputs": [
        {
          "output_type": "stream",
          "name": "stdout",
          "text": [
            "4\n",
            "2\n",
            "6\n",
            "9\n"
          ]
        }
      ],
      "source": [
        "print(x + 1)   # Addition\n",
        "print(x - 1)   # Subtraction\n",
        "print(x * 2)   # Multiplication\n",
        "print(x ** 2)  # Exponentiation"
      ],
      "id": "83f9f364-4260-47bc-b7c3-e9c643b8f134"
    },
    {
      "cell_type": "markdown",
      "metadata": {
        "id": "abb03f7a-4124-4a8a-bfad-056f9ae615cf"
      },
      "source": [
        "Notice that in the cell above, there is a comment at the end of each line. Comments in Python are indicated by a pound sign (`#`), and anything on the line following the pound sign is ignored. You can have inline comments that follow a statement on the same line, like the ones above, or a comment on its own line."
      ],
      "id": "abb03f7a-4124-4a8a-bfad-056f9ae615cf"
    },
    {
      "cell_type": "code",
      "execution_count": null,
      "metadata": {
        "id": "8e53cd69-de47-4da9-bdac-9dabf90a5bb9",
        "colab": {
          "base_uri": "https://localhost:8080/"
        },
        "outputId": "c3ba2119-d0b8-4743-a8d1-fbd65be0ad49"
      },
      "outputs": [
        {
          "output_type": "stream",
          "name": "stdout",
          "text": [
            "4\n",
            "8\n"
          ]
        }
      ],
      "source": [
        "x += 1\n",
        "print(x)\n",
        "x *= 2\n",
        "print(x)"
      ],
      "id": "8e53cd69-de47-4da9-bdac-9dabf90a5bb9"
    },
    {
      "cell_type": "code",
      "execution_count": null,
      "metadata": {
        "id": "20f6fad8-dcec-4e83-a1ad-3e528fa49317",
        "colab": {
          "base_uri": "https://localhost:8080/"
        },
        "outputId": "7e57e531-4c8e-4931-8e20-ec320d23f783"
      },
      "outputs": [
        {
          "output_type": "stream",
          "name": "stdout",
          "text": [
            "<class 'float'>\n",
            "2.5 3.5 5.0 6.25\n"
          ]
        }
      ],
      "source": [
        "y = 2.5\n",
        "print(type(y))\n",
        "print(y, y + 1, y * 2, y ** 2)"
      ],
      "id": "20f6fad8-dcec-4e83-a1ad-3e528fa49317"
    },
    {
      "cell_type": "markdown",
      "metadata": {
        "id": "9a8d8b82-c381-4467-a320-6f4f743ecf1f"
      },
      "source": [
        "Note that unlike many languages, Python does not have unary increment (x++) or decrement (x--) operators.\n",
        "\n",
        "Python also has built-in types for long integers and complex numbers; you can find all of the details in the [documentation](https://docs.python.org/3.7/library/stdtypes.html#numeric-types-int-float-long-complex)."
      ],
      "id": "9a8d8b82-c381-4467-a320-6f4f743ecf1f"
    },
    {
      "cell_type": "markdown",
      "metadata": {
        "id": "098e159d-0ea4-49bc-a2db-5ddf1720633b"
      },
      "source": [
        "#### Booleans"
      ],
      "id": "098e159d-0ea4-49bc-a2db-5ddf1720633b"
    },
    {
      "cell_type": "markdown",
      "metadata": {
        "id": "8b7395c5-1d22-45a6-9175-d5d75cc75347"
      },
      "source": [
        "Python implements all of the usual operators for Boolean logic, but uses English words rather than symbols (`&&`, `||`, etc.):"
      ],
      "id": "8b7395c5-1d22-45a6-9175-d5d75cc75347"
    },
    {
      "cell_type": "code",
      "execution_count": null,
      "metadata": {
        "id": "1950d09f-a629-4e46-8316-59efc1e627cb",
        "colab": {
          "base_uri": "https://localhost:8080/"
        },
        "outputId": "c6222560-dd6a-4e0e-ecff-4dfd36fb0e0f"
      },
      "outputs": [
        {
          "output_type": "stream",
          "name": "stdout",
          "text": [
            "<class 'bool'>\n"
          ]
        }
      ],
      "source": [
        "t, f = True, False\n",
        "print(type(t))"
      ],
      "id": "1950d09f-a629-4e46-8316-59efc1e627cb"
    },
    {
      "cell_type": "markdown",
      "metadata": {
        "id": "ab73e7df-7083-4301-a89c-15d466a90457"
      },
      "source": [
        "Now let's look at the operations:"
      ],
      "id": "ab73e7df-7083-4301-a89c-15d466a90457"
    },
    {
      "cell_type": "code",
      "execution_count": null,
      "metadata": {
        "id": "dadcd940-525e-4597-aade-710278c812cc",
        "colab": {
          "base_uri": "https://localhost:8080/"
        },
        "outputId": "03c61c7c-1049-4bb0-e118-6a44214da048"
      },
      "outputs": [
        {
          "output_type": "stream",
          "name": "stdout",
          "text": [
            "False\n",
            "True\n",
            "False\n",
            "True\n"
          ]
        }
      ],
      "source": [
        "print(t and f) # Logical AND;\n",
        "print(t or f)  # Logical OR;\n",
        "print(not t)   # Logical NOT;\n",
        "print(t != f)  # Logical XOR;"
      ],
      "id": "dadcd940-525e-4597-aade-710278c812cc"
    },
    {
      "cell_type": "markdown",
      "metadata": {
        "id": "19a6ea29-69f3-4914-8775-954020996470"
      },
      "source": [
        "#### Strings"
      ],
      "id": "19a6ea29-69f3-4914-8775-954020996470"
    },
    {
      "cell_type": "code",
      "execution_count": null,
      "metadata": {
        "id": "43ef52e1-3ed0-4728-b0b2-050e72dca549",
        "colab": {
          "base_uri": "https://localhost:8080/"
        },
        "outputId": "de4b1f89-2c83-4f80-fffc-0de731efd759"
      },
      "outputs": [
        {
          "output_type": "stream",
          "name": "stdout",
          "text": [
            "hello 5\n"
          ]
        }
      ],
      "source": [
        "hello = 'hello'   # String literals can use single quotes\n",
        "world = \"world\"   # or double quotes; it does not matter\n",
        "print(hello, len(hello))"
      ],
      "id": "43ef52e1-3ed0-4728-b0b2-050e72dca549"
    },
    {
      "cell_type": "code",
      "execution_count": null,
      "metadata": {
        "id": "9580ab18-b898-41bf-8f39-0b6ad6c35b89",
        "colab": {
          "base_uri": "https://localhost:8080/"
        },
        "outputId": "8146aea0-c078-4a01-f07c-f91acad51687"
      },
      "outputs": [
        {
          "output_type": "stream",
          "name": "stdout",
          "text": [
            "hello world\n"
          ]
        }
      ],
      "source": [
        "hw = hello + ' ' + world  # String concatenation\n",
        "print(hw)"
      ],
      "id": "9580ab18-b898-41bf-8f39-0b6ad6c35b89"
    },
    {
      "cell_type": "code",
      "execution_count": null,
      "metadata": {
        "id": "e7be37f4-4b67-4ffc-a6ce-4bbe02b6334f",
        "colab": {
          "base_uri": "https://localhost:8080/"
        },
        "outputId": "9a6a7f09-a9bd-4da6-cefe-f80a6b75f1a6"
      },
      "outputs": [
        {
          "output_type": "stream",
          "name": "stdout",
          "text": [
            "hello world 12\n"
          ]
        }
      ],
      "source": [
        "hw12 = '{} {} {}'.format(hello, world, 12)  # string formatting\n",
        "print(hw12)"
      ],
      "id": "e7be37f4-4b67-4ffc-a6ce-4bbe02b6334f"
    },
    {
      "cell_type": "markdown",
      "metadata": {
        "id": "aecc2a2c-a241-4769-9b5a-5cc581643141"
      },
      "source": [
        "String objects have a bunch of useful methods; for example:"
      ],
      "id": "aecc2a2c-a241-4769-9b5a-5cc581643141"
    },
    {
      "cell_type": "code",
      "execution_count": null,
      "metadata": {
        "id": "820f5a81-3fa4-4058-a599-eed5577d9ee8",
        "colab": {
          "base_uri": "https://localhost:8080/"
        },
        "outputId": "053f862c-9694-46df-f67b-191f1ba37388"
      },
      "outputs": [
        {
          "output_type": "stream",
          "name": "stdout",
          "text": [
            "Hello\n",
            "HELLO\n",
            "  hello\n",
            " hello \n",
            "he(ell)(ell)o\n",
            "world\n"
          ]
        }
      ],
      "source": [
        "s = \"hello\"\n",
        "print(s.capitalize())  # Capitalize a string\n",
        "print(s.upper())       # Convert a string to uppercase; prints \"HELLO\"\n",
        "print(s.rjust(7))      # Right-justify a string, padding with spaces\n",
        "print(s.center(7))     # Center a string, padding with spaces\n",
        "print(s.replace('l', '(ell)'))  # Replace all instances of one substring with another\n",
        "print('  world '.strip())  # Strip leading and trailing whitespace"
      ],
      "id": "820f5a81-3fa4-4058-a599-eed5577d9ee8"
    },
    {
      "cell_type": "markdown",
      "metadata": {
        "id": "2e330800-01e0-466b-932a-b9cf687bbc74"
      },
      "source": [
        "You can find a list of all string methods in the [documentation](https://docs.python.org/3.7/library/stdtypes.html#string-methods)."
      ],
      "id": "2e330800-01e0-466b-932a-b9cf687bbc74"
    },
    {
      "cell_type": "markdown",
      "metadata": {
        "id": "a9b4305d-9292-415d-a448-6f9f37e65e71"
      },
      "source": [
        "### Containers"
      ],
      "id": "a9b4305d-9292-415d-a448-6f9f37e65e71"
    },
    {
      "cell_type": "markdown",
      "metadata": {
        "id": "e83d7093-82ad-49aa-85d0-707a7123d612"
      },
      "source": [
        "Python includes several built-in container types: lists, dictionaries, sets, and tuples."
      ],
      "id": "e83d7093-82ad-49aa-85d0-707a7123d612"
    },
    {
      "cell_type": "markdown",
      "metadata": {
        "id": "0b08411a-fdeb-43d0-bc70-6c1ea14045f0"
      },
      "source": [
        "#### Lists"
      ],
      "id": "0b08411a-fdeb-43d0-bc70-6c1ea14045f0"
    },
    {
      "cell_type": "markdown",
      "metadata": {
        "id": "0aa3cfaa-873f-4657-ab05-5129f2e3f7a9"
      },
      "source": [
        "A list is the Python equivalent of an array, but is resizeable and can contain elements of different types:"
      ],
      "id": "0aa3cfaa-873f-4657-ab05-5129f2e3f7a9"
    },
    {
      "cell_type": "code",
      "execution_count": null,
      "metadata": {
        "id": "d2a89681-61dd-4e96-a2e2-fc7c979cc78b",
        "colab": {
          "base_uri": "https://localhost:8080/"
        },
        "outputId": "06defd00-764e-416b-e06b-6950b395f8ed"
      },
      "outputs": [
        {
          "output_type": "stream",
          "name": "stdout",
          "text": [
            "[3, 1, 2] 2\n",
            "2\n"
          ]
        }
      ],
      "source": [
        "xs = [3, 1, 2]   # Create a list\n",
        "print(xs, xs[2])\n",
        "print(xs[-1])     # Negative indices count from the end of the list; prints \"2\""
      ],
      "id": "d2a89681-61dd-4e96-a2e2-fc7c979cc78b"
    },
    {
      "cell_type": "code",
      "execution_count": null,
      "metadata": {
        "id": "abf7c604-878a-4c85-abdf-ca11e0e97d6d",
        "colab": {
          "base_uri": "https://localhost:8080/"
        },
        "outputId": "3fbcc10c-e750-4712-da6c-ab8c5096f575"
      },
      "outputs": [
        {
          "output_type": "stream",
          "name": "stdout",
          "text": [
            "[3, 1, 'foo']\n"
          ]
        }
      ],
      "source": [
        "xs[2] = 'foo'    # Lists can contain elements of different types\n",
        "print(xs)"
      ],
      "id": "abf7c604-878a-4c85-abdf-ca11e0e97d6d"
    },
    {
      "cell_type": "code",
      "execution_count": null,
      "metadata": {
        "id": "5b6dd394-1ea5-4db7-870e-cf2100dcd22c",
        "colab": {
          "base_uri": "https://localhost:8080/"
        },
        "outputId": "21384e3d-cd06-4047-dfdd-c747e7d10bd4"
      },
      "outputs": [
        {
          "output_type": "stream",
          "name": "stdout",
          "text": [
            "[3, 1, 'foo', 'bar']\n"
          ]
        }
      ],
      "source": [
        "xs.append('bar') # Add a new element to the end of the list\n",
        "print(xs)"
      ],
      "id": "5b6dd394-1ea5-4db7-870e-cf2100dcd22c"
    },
    {
      "cell_type": "code",
      "execution_count": null,
      "metadata": {
        "id": "c591052b-85a9-414c-9ea9-73e7e1eca04c",
        "colab": {
          "base_uri": "https://localhost:8080/"
        },
        "outputId": "a2351f40-e16c-4b13-c9a0-958d7b6f543d"
      },
      "outputs": [
        {
          "output_type": "stream",
          "name": "stdout",
          "text": [
            "bar [3, 1, 'foo']\n"
          ]
        }
      ],
      "source": [
        "x = xs.pop()     # Remove and return the last element of the list\n",
        "print(x, xs)"
      ],
      "id": "c591052b-85a9-414c-9ea9-73e7e1eca04c"
    },
    {
      "cell_type": "markdown",
      "metadata": {
        "id": "d9e5e247-d0e6-4e1d-881f-1de7f682e7f5"
      },
      "source": [
        "As usual, you can find all the gory details about lists in the [documentation](https://docs.python.org/3.7/tutorial/datastructures.html#more-on-lists)."
      ],
      "id": "d9e5e247-d0e6-4e1d-881f-1de7f682e7f5"
    },
    {
      "cell_type": "markdown",
      "metadata": {
        "id": "e22ce520-2c34-417f-9c49-6f83f4310eaa"
      },
      "source": [
        "#### Slicing"
      ],
      "id": "e22ce520-2c34-417f-9c49-6f83f4310eaa"
    },
    {
      "cell_type": "markdown",
      "metadata": {
        "id": "a47fbfed-6140-4fb3-9840-2440fd91f38c"
      },
      "source": [
        "In addition to accessing list elements one at a time, Python provides concise syntax to access sublists; this is known as slicing:"
      ],
      "id": "a47fbfed-6140-4fb3-9840-2440fd91f38c"
    },
    {
      "cell_type": "code",
      "execution_count": null,
      "metadata": {
        "id": "0caff58b-7958-46a1-9a96-58bf371bbc93",
        "colab": {
          "base_uri": "https://localhost:8080/"
        },
        "outputId": "140f06be-1aa9-403e-a7de-876c5c0d9ce1"
      },
      "outputs": [
        {
          "output_type": "stream",
          "name": "stdout",
          "text": [
            "[0, 1, 2, 3, 4]\n",
            "[2, 3]\n",
            "[2, 3, 4]\n",
            "[0, 1]\n",
            "[0, 1, 2, 3, 4]\n",
            "[0, 1, 2, 3]\n",
            "[0, 1, 8, 9, 4]\n"
          ]
        }
      ],
      "source": [
        "nums = list(range(5))    # range is a built-in function that creates a list of integers\n",
        "print(nums)         # Prints \"[0, 1, 2, 3, 4]\"\n",
        "print(nums[2:4])    # Get a slice from index 2 to 4 (exclusive); prints \"[2, 3]\"\n",
        "print(nums[2:])     # Get a slice from index 2 to the end; prints \"[2, 3, 4]\"\n",
        "print(nums[:2])     # Get a slice from the start to index 2 (exclusive); prints \"[0, 1]\"\n",
        "print(nums[:])      # Get a slice of the whole list; prints [\"0, 1, 2, 3, 4]\"\n",
        "print(nums[:-1])    # Slice indices can be negative; prints [\"0, 1, 2, 3]\"\n",
        "nums[2:4] = [8, 9] # Assign a new sublist to a slice\n",
        "print(nums)         # Prints \"[0, 1, 8, 9, 4]\""
      ],
      "id": "0caff58b-7958-46a1-9a96-58bf371bbc93"
    },
    {
      "cell_type": "markdown",
      "metadata": {
        "id": "2e8db573-7dd1-454f-9d22-6ca74364d5a4"
      },
      "source": [
        "#### Dictionaries"
      ],
      "id": "2e8db573-7dd1-454f-9d22-6ca74364d5a4"
    },
    {
      "cell_type": "markdown",
      "metadata": {
        "id": "268f728c-6dfe-4fd1-ab8e-682545cc69e4"
      },
      "source": [
        "A dictionary stores (key, value) pairs, similar to a `Map` in Java or an object in Javascript. You can use it like this:"
      ],
      "id": "268f728c-6dfe-4fd1-ab8e-682545cc69e4"
    },
    {
      "cell_type": "code",
      "execution_count": null,
      "metadata": {
        "id": "a60b9bef-7335-4010-a6cf-ee8738778793",
        "colab": {
          "base_uri": "https://localhost:8080/"
        },
        "outputId": "9e3c74c2-009c-4ba3-a2be-c2ba547d2f33"
      },
      "outputs": [
        {
          "output_type": "stream",
          "name": "stdout",
          "text": [
            "cute\n",
            "True\n"
          ]
        }
      ],
      "source": [
        "d = {'cat': 'cute', 'dog': 'furry'}  # Create a new dictionary with some data\n",
        "print(d['cat'])       # Get an entry from a dictionary; prints \"cute\"\n",
        "print('cat' in d)     # Check if a dictionary has a given key; prints \"True\""
      ],
      "id": "a60b9bef-7335-4010-a6cf-ee8738778793"
    },
    {
      "cell_type": "code",
      "execution_count": null,
      "metadata": {
        "id": "d857e659-f8e7-459c-aad3-431914e29599",
        "colab": {
          "base_uri": "https://localhost:8080/"
        },
        "outputId": "5c3736a4-2744-45dc-a65d-f118b1144564"
      },
      "outputs": [
        {
          "output_type": "stream",
          "name": "stdout",
          "text": [
            "wet\n"
          ]
        }
      ],
      "source": [
        "d['fish'] = 'wet'    # Set an entry in a dictionary\n",
        "print(d['fish'])      # Prints \"wet\""
      ],
      "id": "d857e659-f8e7-459c-aad3-431914e29599"
    },
    {
      "cell_type": "code",
      "execution_count": null,
      "metadata": {
        "id": "1fb29c3b-1b4b-44d0-82da-d1472685dbc8",
        "colab": {
          "base_uri": "https://localhost:8080/",
          "height": 201
        },
        "outputId": "c68692df-647f-4b23-a8bb-961ae4139ab0"
      },
      "outputs": [
        {
          "output_type": "error",
          "ename": "KeyError",
          "evalue": "ignored",
          "traceback": [
            "\u001b[0;31m---------------------------------------------------------------------------\u001b[0m",
            "\u001b[0;31mKeyError\u001b[0m                                  Traceback (most recent call last)",
            "\u001b[0;32m<ipython-input-19-3e76d3ba5b29>\u001b[0m in \u001b[0;36m<cell line: 2>\u001b[0;34m()\u001b[0m\n\u001b[1;32m      1\u001b[0m \u001b[0;31m# note: this cell will raise an error\u001b[0m\u001b[0;34m\u001b[0m\u001b[0;34m\u001b[0m\u001b[0m\n\u001b[0;32m----> 2\u001b[0;31m \u001b[0mprint\u001b[0m\u001b[0;34m(\u001b[0m\u001b[0md\u001b[0m\u001b[0;34m[\u001b[0m\u001b[0;34m'monkey'\u001b[0m\u001b[0;34m]\u001b[0m\u001b[0;34m)\u001b[0m  \u001b[0;31m# KeyError: 'monkey' not a key of d\u001b[0m\u001b[0;34m\u001b[0m\u001b[0;34m\u001b[0m\u001b[0m\n\u001b[0m",
            "\u001b[0;31mKeyError\u001b[0m: 'monkey'"
          ]
        }
      ],
      "source": [
        "# note: this cell will raise an error\n",
        "print(d['monkey'])  # KeyError: 'monkey' not a key of d"
      ],
      "id": "1fb29c3b-1b4b-44d0-82da-d1472685dbc8"
    },
    {
      "cell_type": "code",
      "execution_count": null,
      "metadata": {
        "id": "2625a725-1042-4bcf-9068-c25e445a1582",
        "colab": {
          "base_uri": "https://localhost:8080/"
        },
        "outputId": "bde53eed-ce18-4196-935d-3418a50b13d5"
      },
      "outputs": [
        {
          "output_type": "stream",
          "name": "stdout",
          "text": [
            "N/A\n",
            "wet\n"
          ]
        }
      ],
      "source": [
        "print(d.get('monkey', 'N/A'))  # Get an element with a default; prints \"N/A\"\n",
        "print(d.get('fish', 'N/A'))    # Get an element with a default; prints \"wet\""
      ],
      "id": "2625a725-1042-4bcf-9068-c25e445a1582"
    },
    {
      "cell_type": "code",
      "execution_count": null,
      "metadata": {
        "id": "d2abfab5-8718-4e6d-bc77-dd756cea5979",
        "colab": {
          "base_uri": "https://localhost:8080/"
        },
        "outputId": "5dbe759c-8683-43ba-b1a7-815935c2492f"
      },
      "outputs": [
        {
          "output_type": "stream",
          "name": "stdout",
          "text": [
            "N/A\n"
          ]
        }
      ],
      "source": [
        "del d['fish']        # Remove an element from a dictionary\n",
        "print(d.get('fish', 'N/A')) # \"fish\" is no longer a key; prints \"N/A\""
      ],
      "id": "d2abfab5-8718-4e6d-bc77-dd756cea5979"
    },
    {
      "cell_type": "markdown",
      "metadata": {
        "id": "d37ade66-6ce7-4a8f-94db-73ebb28f5777"
      },
      "source": [
        "You can find all you need to know about dictionaries in the [documentation](https://docs.python.org/2/library/stdtypes.html#dict)."
      ],
      "id": "d37ade66-6ce7-4a8f-94db-73ebb28f5777"
    },
    {
      "cell_type": "markdown",
      "metadata": {
        "id": "20a5ba63-277f-487a-a638-87775d31fe29"
      },
      "source": [
        "#### Tuples"
      ],
      "id": "20a5ba63-277f-487a-a638-87775d31fe29"
    },
    {
      "cell_type": "markdown",
      "metadata": {
        "id": "fe390af4-ed3a-47a8-807b-962e87026dbf"
      },
      "source": [
        "A tuple is an (immutable) ordered list of values. A tuple is in many ways similar to a list; one of the most important differences is that tuples can be used as keys in dictionaries and as elements of sets, while lists cannot. Here is a trivial example:"
      ],
      "id": "fe390af4-ed3a-47a8-807b-962e87026dbf"
    },
    {
      "cell_type": "code",
      "execution_count": null,
      "metadata": {
        "id": "fedf0d08-feab-4d32-b77a-997cd61d5057",
        "colab": {
          "base_uri": "https://localhost:8080/"
        },
        "outputId": "5c552993-370c-4984-d4db-4171c7a34375"
      },
      "outputs": [
        {
          "output_type": "stream",
          "name": "stdout",
          "text": [
            "<class 'tuple'>\n",
            "5\n",
            "1\n"
          ]
        }
      ],
      "source": [
        "d = {(x, x + 1): x for x in range(10)}  # Create a dictionary with tuple keys\n",
        "t = (5, 6)       # Create a tuple\n",
        "print(type(t))\n",
        "print(d[t])\n",
        "\n",
        "print(d[(1, 2)])"
      ],
      "id": "fedf0d08-feab-4d32-b77a-997cd61d5057"
    },
    {
      "cell_type": "code",
      "execution_count": null,
      "metadata": {
        "id": "5e110d20-503b-4caf-8521-5dea3fba7dc7",
        "colab": {
          "base_uri": "https://localhost:8080/"
        },
        "outputId": "e77b2249-c65f-4bfd-da30-01af5c0e96a5"
      },
      "outputs": [
        {
          "output_type": "stream",
          "name": "stdout",
          "text": [
            "{(0, 1): 0, (1, 2): 1, (2, 3): 2, (3, 4): 3, (4, 5): 4, (5, 6): 5, (6, 7): 6, (7, 8): 7, (8, 9): 8, (9, 10): 9, 0: 100}\n"
          ]
        }
      ],
      "source": [
        "d[0] = 100 # you can change a value in the dictionary...\n",
        "print(d)"
      ],
      "id": "5e110d20-503b-4caf-8521-5dea3fba7dc7"
    },
    {
      "cell_type": "code",
      "execution_count": null,
      "metadata": {
        "id": "8bd7194d-0e84-466d-a566-1382f043fbe1",
        "colab": {
          "base_uri": "https://localhost:8080/",
          "height": 201
        },
        "outputId": "66b21d78-54d0-4af1-d3ee-8cabf46615cb"
      },
      "outputs": [
        {
          "output_type": "error",
          "ename": "TypeError",
          "evalue": "ignored",
          "traceback": [
            "\u001b[0;31m---------------------------------------------------------------------------\u001b[0m",
            "\u001b[0;31mTypeError\u001b[0m                                 Traceback (most recent call last)",
            "\u001b[0;32m<ipython-input-24-131c7b673e68>\u001b[0m in \u001b[0;36m<cell line: 1>\u001b[0;34m()\u001b[0m\n\u001b[0;32m----> 1\u001b[0;31m \u001b[0mt\u001b[0m\u001b[0;34m[\u001b[0m\u001b[0;36m0\u001b[0m\u001b[0;34m]\u001b[0m \u001b[0;34m=\u001b[0m \u001b[0;36m1\u001b[0m \u001b[0;31m# ...but not a value in the tuple\u001b[0m\u001b[0;34m\u001b[0m\u001b[0;34m\u001b[0m\u001b[0m\n\u001b[0m\u001b[1;32m      2\u001b[0m \u001b[0;31m# this cell raises an error! 'tuple' object does not support item assignment\u001b[0m\u001b[0;34m\u001b[0m\u001b[0;34m\u001b[0m\u001b[0m\n",
            "\u001b[0;31mTypeError\u001b[0m: 'tuple' object does not support item assignment"
          ]
        }
      ],
      "source": [
        "t[0] = 1 # ...but not a value in the tuple\n",
        "# this cell raises an error! 'tuple' object does not support item assignment"
      ],
      "id": "8bd7194d-0e84-466d-a566-1382f043fbe1"
    },
    {
      "cell_type": "markdown",
      "metadata": {
        "id": "8ec37567-f911-47f0-b414-8ac5f67653bc"
      },
      "source": [
        "### Control Flow Statements"
      ],
      "id": "8ec37567-f911-47f0-b414-8ac5f67653bc"
    },
    {
      "cell_type": "markdown",
      "metadata": {
        "id": "02430223-b90f-43ac-a5dc-f313e6b843fc"
      },
      "source": [
        "#### If-Else\n",
        "\n",
        "Conditional statements, often referred to as *if-then* statements, allow the programmer to execute certain pieces of code depending on some Boolean condition.\n",
        "\n",
        "A basic example of a Python conditional statement is this:"
      ],
      "id": "02430223-b90f-43ac-a5dc-f313e6b843fc"
    },
    {
      "cell_type": "code",
      "execution_count": null,
      "metadata": {
        "id": "c0811828-7ea5-4a95-8d8c-aa06c15ef2e9",
        "colab": {
          "base_uri": "https://localhost:8080/"
        },
        "outputId": "227f3c42-8a5e-4858-cbac-4536cb694cb5"
      },
      "outputs": [
        {
          "output_type": "stream",
          "name": "stdout",
          "text": [
            "-15 is negative\n"
          ]
        }
      ],
      "source": [
        "\n",
        "x = -15\n",
        "\n",
        "if x == 0:\n",
        "    print(x, \"is zero\")\n",
        "elif x > 0:\n",
        "    print(x, \"is positive\")\n",
        "elif x < 0:\n",
        "    print(x, \"is negative\")\n",
        "else:\n",
        "    print(x, \"is unlike anything I've ever seen...\")"
      ],
      "id": "c0811828-7ea5-4a95-8d8c-aa06c15ef2e9"
    },
    {
      "cell_type": "markdown",
      "metadata": {
        "id": "58ac0a16-fde1-4e16-89df-74441f85e58f"
      },
      "source": [
        "Note especially the use of colons (`:`) and whitespace to denote separate blocks of code.\n",
        "\n",
        "A *block* of code is a set of statements that should be treated as a unit. In C, for example, code blocks are denoted by curly braces:\n",
        "\n",
        "``` c\n",
        "// C code\n",
        "for(int i=0; i<100; i++)\n",
        "   {\n",
        "      // curly braces indicate code block\n",
        "      total += i;\n",
        "   }\n",
        "```\n",
        "\n",
        "In Python, code blocks are denoted by *indentation*:\n",
        "\n",
        "``` python\n",
        "for i in range(100):\n",
        "    # indentation indicates code block\n",
        "    total += i\n",
        "```\n",
        "\n",
        "where all statements that should be evaluated within the “block” are at the same level of indentation.\n",
        "\n",
        "Indented code blocks are always preceded by a colon (`:`) on the previous line."
      ],
      "id": "58ac0a16-fde1-4e16-89df-74441f85e58f"
    },
    {
      "cell_type": "markdown",
      "metadata": {
        "id": "09f86892-54d7-4bb2-86d8-db96826e8a88"
      },
      "source": [
        "#### For\n",
        "\n",
        "Loops in Python are a way to repeatedly execute some code statement. So, for example, if we’d like to print each of the items in a list, we can use a `for` loop:"
      ],
      "id": "09f86892-54d7-4bb2-86d8-db96826e8a88"
    },
    {
      "cell_type": "code",
      "execution_count": null,
      "metadata": {
        "id": "ae99afbb-5906-4965-8df0-7fdebba3c6af",
        "colab": {
          "base_uri": "https://localhost:8080/"
        },
        "outputId": "d48c6f32-5931-4bac-8150-0b02d26fce2f"
      },
      "outputs": [
        {
          "output_type": "stream",
          "name": "stdout",
          "text": [
            "2 3 5 7 "
          ]
        }
      ],
      "source": [
        "for N in [2, 3, 5, 7]:\n",
        "    print(N, end=' ') # print all on same line"
      ],
      "id": "ae99afbb-5906-4965-8df0-7fdebba3c6af"
    },
    {
      "cell_type": "markdown",
      "metadata": {
        "id": "b79a5d48-4cfd-4fa1-9aa0-69b3866e1a09"
      },
      "source": [
        "Notice the simplicity of the `for` loop: we specify the variable we want to use, the sequence we want to loop over, and use the “`in`” operator to link them together in an intuitive and readable way. More precisely, the object to the right of the “`in`” can be any Python *iterator*.\n",
        "\n",
        "For example, one of the most commonly-used iterators in Python is the `range` object, which generates a sequence of numbers:"
      ],
      "id": "b79a5d48-4cfd-4fa1-9aa0-69b3866e1a09"
    },
    {
      "cell_type": "code",
      "execution_count": null,
      "metadata": {
        "id": "bbbf473c-0967-45ec-951d-6713bb2ae705",
        "colab": {
          "base_uri": "https://localhost:8080/"
        },
        "outputId": "9aaedb98-f755-4516-a3ae-4478740f3a5c"
      },
      "outputs": [
        {
          "output_type": "stream",
          "name": "stdout",
          "text": [
            "0 1 2 3 4 5 6 7 8 9 "
          ]
        }
      ],
      "source": [
        "for i in range(10):\n",
        "    print(i, end=' ')"
      ],
      "id": "bbbf473c-0967-45ec-951d-6713bb2ae705"
    },
    {
      "cell_type": "markdown",
      "metadata": {
        "id": "1c35aff8-b82a-4ffd-8704-b22004743bed"
      },
      "source": [
        "Note that the range starts at zero by default, and that by convention the top of the range is not included in the output."
      ],
      "id": "1c35aff8-b82a-4ffd-8704-b22004743bed"
    },
    {
      "cell_type": "markdown",
      "metadata": {
        "id": "c6933a05-5a74-4abd-841c-0a6251267d95"
      },
      "source": [
        "We can loop over any list, no matter what type of object is stored in it."
      ],
      "id": "c6933a05-5a74-4abd-841c-0a6251267d95"
    },
    {
      "cell_type": "code",
      "execution_count": null,
      "metadata": {
        "id": "ca95f796-7ab7-4faf-8117-7592d1ccbe9e",
        "colab": {
          "base_uri": "https://localhost:8080/"
        },
        "outputId": "7cda67ca-598c-424d-f6dd-01e67d09646c"
      },
      "outputs": [
        {
          "output_type": "stream",
          "name": "stdout",
          "text": [
            "cat\n",
            "dog\n",
            "monkey\n"
          ]
        }
      ],
      "source": [
        "animals = ['cat', 'dog', 'monkey']\n",
        "for animal in animals:\n",
        "    print(animal)"
      ],
      "id": "ca95f796-7ab7-4faf-8117-7592d1ccbe9e"
    },
    {
      "cell_type": "markdown",
      "metadata": {
        "id": "404c111c-f701-4dee-bc47-3d9ab683c00a"
      },
      "source": [
        "If you want access to the index of each element within the body of a loop, use the built-in `enumerate` function:"
      ],
      "id": "404c111c-f701-4dee-bc47-3d9ab683c00a"
    },
    {
      "cell_type": "code",
      "execution_count": null,
      "metadata": {
        "id": "34525af6-d1fb-4799-9781-6ecb62a830b9",
        "colab": {
          "base_uri": "https://localhost:8080/"
        },
        "outputId": "82bf8d64-ae1b-4ebb-c9f1-75b022c99d4e"
      },
      "outputs": [
        {
          "output_type": "stream",
          "name": "stdout",
          "text": [
            "#1: cat\n",
            "#2: dog\n",
            "#3: monkey\n"
          ]
        }
      ],
      "source": [
        "animals = ['cat', 'dog', 'monkey']\n",
        "for idx, animal in enumerate(animals):\n",
        "    print('#{}: {}'.format(idx + 1, animal))"
      ],
      "id": "34525af6-d1fb-4799-9781-6ecb62a830b9"
    },
    {
      "cell_type": "markdown",
      "metadata": {
        "id": "1dc48c83-75e6-42ca-b3f6-1c4a3467d312"
      },
      "source": [
        "It is easy to iterate over the keys in a dictionary:"
      ],
      "id": "1dc48c83-75e6-42ca-b3f6-1c4a3467d312"
    },
    {
      "cell_type": "code",
      "execution_count": null,
      "metadata": {
        "id": "45a57cd0-f5e5-40cb-9dfd-226097afd57d",
        "colab": {
          "base_uri": "https://localhost:8080/"
        },
        "outputId": "9ad15790-6e41-466b-bf9a-f54770bc4e6c"
      },
      "outputs": [
        {
          "output_type": "stream",
          "name": "stdout",
          "text": [
            "A person has 2 legs\n",
            "A cat has 4 legs\n",
            "A spider has 8 legs\n"
          ]
        }
      ],
      "source": [
        "d = {'person': 2, 'cat': 4, 'spider': 8}\n",
        "for animal, legs in d.items():\n",
        "    print('A {} has {} legs'.format(animal, legs))"
      ],
      "id": "45a57cd0-f5e5-40cb-9dfd-226097afd57d"
    },
    {
      "cell_type": "markdown",
      "metadata": {
        "id": "f453f25e-8db2-4f8a-ac96-262cd7412245"
      },
      "source": [
        "#### While\n",
        "\n",
        "The other type of loop in Python is a `while` loop, which iterates until some condition is met:"
      ],
      "id": "f453f25e-8db2-4f8a-ac96-262cd7412245"
    },
    {
      "cell_type": "code",
      "execution_count": null,
      "metadata": {
        "id": "02ed56f8-2055-41e1-aeec-c46ca7418342",
        "colab": {
          "base_uri": "https://localhost:8080/"
        },
        "outputId": "c063a16b-970b-4bc0-e873-ca55145f238f"
      },
      "outputs": [
        {
          "output_type": "stream",
          "name": "stdout",
          "text": [
            "0 1 2 3 4 5 6 7 8 9 "
          ]
        }
      ],
      "source": [
        "i = 0\n",
        "while i < 10:\n",
        "    print(i, end=' ')\n",
        "    i += 1"
      ],
      "id": "02ed56f8-2055-41e1-aeec-c46ca7418342"
    },
    {
      "cell_type": "markdown",
      "metadata": {
        "id": "1aea9e32-f051-46dd-ba5d-0c92dd1df39d"
      },
      "source": [
        "#### List comprehensions"
      ],
      "id": "1aea9e32-f051-46dd-ba5d-0c92dd1df39d"
    },
    {
      "cell_type": "markdown",
      "metadata": {
        "id": "baa6813d-bde6-4c87-b33f-03f2e20076f0"
      },
      "source": [
        "When programming, frequently we want to transform one type of data into another. As a simple example, consider the following code that computes square numbers:"
      ],
      "id": "baa6813d-bde6-4c87-b33f-03f2e20076f0"
    },
    {
      "cell_type": "code",
      "execution_count": null,
      "metadata": {
        "id": "7b522205-6834-4e2d-b2f6-4bd3b81b03ae",
        "colab": {
          "base_uri": "https://localhost:8080/"
        },
        "outputId": "80f57727-065e-4c7f-dc01-7611a9d11084"
      },
      "outputs": [
        {
          "output_type": "stream",
          "name": "stdout",
          "text": [
            "[0, 1, 4, 9, 16]\n"
          ]
        }
      ],
      "source": [
        "nums = [0, 1, 2, 3, 4]\n",
        "squares = []\n",
        "for x in nums:\n",
        "    squares.append(x ** 2)\n",
        "print(squares)"
      ],
      "id": "7b522205-6834-4e2d-b2f6-4bd3b81b03ae"
    },
    {
      "cell_type": "markdown",
      "metadata": {
        "id": "2077d9a4-35ee-4ec1-8e64-26e73deaec41"
      },
      "source": [
        "You can make this code simpler using a list comprehension:"
      ],
      "id": "2077d9a4-35ee-4ec1-8e64-26e73deaec41"
    },
    {
      "cell_type": "code",
      "execution_count": null,
      "metadata": {
        "id": "3c53b77b-a5b1-4e94-ac9a-3de0f3976777",
        "colab": {
          "base_uri": "https://localhost:8080/"
        },
        "outputId": "f1a01fca-1b92-4411-952a-6ecd616a576b"
      },
      "outputs": [
        {
          "output_type": "stream",
          "name": "stdout",
          "text": [
            "[0, 1, 4, 9, 16]\n"
          ]
        }
      ],
      "source": [
        "nums = [0, 1, 2, 3, 4]\n",
        "squares = [x ** 2 for x in nums]\n",
        "print(squares)"
      ],
      "id": "3c53b77b-a5b1-4e94-ac9a-3de0f3976777"
    },
    {
      "cell_type": "markdown",
      "metadata": {
        "id": "716b519c-1f17-4eef-95e2-b9966a9e9265"
      },
      "source": [
        "List comprehensions can also contain conditions:"
      ],
      "id": "716b519c-1f17-4eef-95e2-b9966a9e9265"
    },
    {
      "cell_type": "code",
      "execution_count": null,
      "metadata": {
        "id": "1a4aedbc-cccc-4950-9409-d3aebf2da164",
        "colab": {
          "base_uri": "https://localhost:8080/"
        },
        "outputId": "0152be8c-ec3d-4ae2-dd48-46a5f8af1061"
      },
      "outputs": [
        {
          "output_type": "stream",
          "name": "stdout",
          "text": [
            "[0, 4, 16]\n"
          ]
        }
      ],
      "source": [
        "nums = [0, 1, 2, 3, 4]\n",
        "even_squares = [x ** 2 for x in nums if x % 2 == 0]\n",
        "print(even_squares)"
      ],
      "id": "1a4aedbc-cccc-4950-9409-d3aebf2da164"
    },
    {
      "cell_type": "markdown",
      "metadata": {
        "id": "a9d6029e-608a-4915-b655-d88383ae8147"
      },
      "source": [
        "Dictionary comprehensions are similar to list comprehensions, but allow you to easily construct dictionaries. For example:"
      ],
      "id": "a9d6029e-608a-4915-b655-d88383ae8147"
    },
    {
      "cell_type": "code",
      "execution_count": null,
      "metadata": {
        "id": "c975eaf5-4cf5-45f3-908f-b67f4b4a059d",
        "colab": {
          "base_uri": "https://localhost:8080/"
        },
        "outputId": "8f998932-6eff-47b7-ccd2-e696e2a62b60"
      },
      "outputs": [
        {
          "output_type": "stream",
          "name": "stdout",
          "text": [
            "{0: 0, 2: 4, 4: 16}\n"
          ]
        }
      ],
      "source": [
        "nums = [0, 1, 2, 3, 4]\n",
        "even_num_to_square = {x: x ** 2 for x in nums if x % 2 == 0}\n",
        "print(even_num_to_square)"
      ],
      "id": "c975eaf5-4cf5-45f3-908f-b67f4b4a059d"
    },
    {
      "cell_type": "markdown",
      "metadata": {
        "id": "9aa0825b-d912-470c-b7b4-7c8f10f15b6f"
      },
      "source": [
        "### Errors and Exceptions"
      ],
      "id": "9aa0825b-d912-470c-b7b4-7c8f10f15b6f"
    },
    {
      "cell_type": "markdown",
      "metadata": {
        "id": "dd859723-9de5-4456-ad9a-cc62d1c440cc"
      },
      "source": [
        "When you are working with Python, you are likely to come across errors. When an error occurs, Python tries to explain to you what went wrong, but it takes some experience to interpret the error messages."
      ],
      "id": "dd859723-9de5-4456-ad9a-cc62d1c440cc"
    },
    {
      "cell_type": "markdown",
      "metadata": {
        "id": "a3304188-6c75-4031-ae0b-6efbf5286d3d"
      },
      "source": [
        "The code in the following cell will raise a `SyntaxError` because it tries to use a variable name that begins with a number, which is not allowed in Python.\n",
        "\n",
        "Run the code, and look for three key “ingredients” in the error message that is printed to the output:\n",
        "\n",
        "-   the type of error. In this case, it will be a `SyntaxError`. This type of error is raised by the *parser*, which checks to see if the code is valid before passing it to the *runtime* to execute the code.\n",
        "-   an explanation of the error, if available. In this case, the explanation is “invalid syntax”.\n",
        "-   details about where the error was detected. At what line of code, and what point in the line, did the error occur?"
      ],
      "id": "a3304188-6c75-4031-ae0b-6efbf5286d3d"
    },
    {
      "cell_type": "code",
      "execution_count": null,
      "metadata": {
        "id": "a7d376c9-c3c2-4b4d-af8a-7d6bdcf4f758",
        "colab": {
          "base_uri": "https://localhost:8080/",
          "height": 147
        },
        "outputId": "1bb01f7a-008f-47f4-9dd2-641e00f79319"
      },
      "outputs": [
        {
          "output_type": "error",
          "ename": "SyntaxError",
          "evalue": "ignored",
          "traceback": [
            "\u001b[0;36m  File \u001b[0;32m\"<ipython-input-36-05d80cc97354>\"\u001b[0;36m, line \u001b[0;32m1\u001b[0m\n\u001b[0;31m    1st_number = 1\u001b[0m\n\u001b[0m    ^\u001b[0m\n\u001b[0;31mSyntaxError\u001b[0m\u001b[0;31m:\u001b[0m invalid decimal literal\n"
          ]
        }
      ],
      "source": [
        "1st_number = 1"
      ],
      "id": "a7d376c9-c3c2-4b4d-af8a-7d6bdcf4f758"
    },
    {
      "cell_type": "markdown",
      "metadata": {
        "id": "a05d536e-752c-4e92-ac40-6397e8579e8a"
      },
      "source": [
        "Here are some more examples. Run the following cells, one at a time. Each will trigger an error message. Try to parse the error message by looking for the three “ingredients”.\n",
        "\n",
        "Look up each error type in [the documentation](https://docs.python.org/3/library/exceptions.html). Under what conditions is this error raised?"
      ],
      "id": "a05d536e-752c-4e92-ac40-6397e8579e8a"
    },
    {
      "cell_type": "code",
      "execution_count": null,
      "metadata": {
        "id": "f814e10d-6acc-4767-8697-12dc0a3e0dfe",
        "colab": {
          "base_uri": "https://localhost:8080/",
          "height": 147
        },
        "outputId": "83490a64-bca1-45da-996b-2e4770c3869f"
      },
      "outputs": [
        {
          "output_type": "error",
          "ename": "SyntaxError",
          "evalue": "ignored",
          "traceback": [
            "\u001b[0;36m  File \u001b[0;32m\"<ipython-input-37-c24ab0a058f6>\"\u001b[0;36m, line \u001b[0;32m2\u001b[0m\n\u001b[0;31m    x++\u001b[0m\n\u001b[0m       ^\u001b[0m\n\u001b[0;31mSyntaxError\u001b[0m\u001b[0;31m:\u001b[0m invalid syntax\n"
          ]
        }
      ],
      "source": [
        "x=0\n",
        "x++"
      ],
      "id": "f814e10d-6acc-4767-8697-12dc0a3e0dfe"
    },
    {
      "cell_type": "code",
      "execution_count": null,
      "metadata": {
        "id": "3c38c0ac-1a2c-4850-8a65-8990623d6c3c",
        "colab": {
          "base_uri": "https://localhost:8080/",
          "height": 147
        },
        "outputId": "1414e644-19f4-474a-ce15-d1e9cab76450"
      },
      "outputs": [
        {
          "output_type": "error",
          "ename": "IndentationError",
          "evalue": "ignored",
          "traceback": [
            "\u001b[0;36m  File \u001b[0;32m\"<ipython-input-38-ff1faaa77a89>\"\u001b[0;36m, line \u001b[0;32m2\u001b[0m\n\u001b[0;31m    x=x+1\u001b[0m\n\u001b[0m    ^\u001b[0m\n\u001b[0;31mIndentationError\u001b[0m\u001b[0;31m:\u001b[0m unexpected indent\n"
          ]
        }
      ],
      "source": [
        "x=0\n",
        " x=x+1"
      ],
      "id": "3c38c0ac-1a2c-4850-8a65-8990623d6c3c"
    },
    {
      "cell_type": "code",
      "execution_count": null,
      "metadata": {
        "id": "373ec002-7e66-40da-a793-b761552f1187",
        "colab": {
          "base_uri": "https://localhost:8080/",
          "height": 147
        },
        "outputId": "51a2fd75-d1e5-4806-be01-3ab54389cb7c"
      },
      "outputs": [
        {
          "output_type": "error",
          "ename": "SyntaxError",
          "evalue": "ignored",
          "traceback": [
            "\u001b[0;36m  File \u001b[0;32m\"<ipython-input-40-725bb0f12fbb>\"\u001b[0;36m, line \u001b[0;32m1\u001b[0m\n\u001b[0;31m    print('Hello'\u001b[0m\n\u001b[0m                 ^\u001b[0m\n\u001b[0;31mSyntaxError\u001b[0m\u001b[0;31m:\u001b[0m incomplete input\n"
          ]
        }
      ],
      "source": [
        "print('Hello'"
      ],
      "id": "373ec002-7e66-40da-a793-b761552f1187"
    },
    {
      "cell_type": "code",
      "execution_count": null,
      "metadata": {
        "id": "2bf3e6f1-0e34-4fcc-b7d9-189d5713aafa",
        "colab": {
          "base_uri": "https://localhost:8080/",
          "height": 183
        },
        "outputId": "1dfce1d7-b0b3-42cb-e8c8-7841f6156c4f"
      },
      "outputs": [
        {
          "output_type": "error",
          "ename": "TypeError",
          "evalue": "ignored",
          "traceback": [
            "\u001b[0;31m---------------------------------------------------------------------------\u001b[0m",
            "\u001b[0;31mTypeError\u001b[0m                                 Traceback (most recent call last)",
            "\u001b[0;32m<ipython-input-41-8e0459ddb3b5>\u001b[0m in \u001b[0;36m<cell line: 1>\u001b[0;34m()\u001b[0m\n\u001b[0;32m----> 1\u001b[0;31m \u001b[0;36m1\u001b[0m \u001b[0;34m+\u001b[0m \u001b[0;34m'asdf'\u001b[0m\u001b[0;34m\u001b[0m\u001b[0;34m\u001b[0m\u001b[0m\n\u001b[0m",
            "\u001b[0;31mTypeError\u001b[0m: unsupported operand type(s) for +: 'int' and 'str'"
          ]
        }
      ],
      "source": [
        "1 + 'asdf'"
      ],
      "id": "2bf3e6f1-0e34-4fcc-b7d9-189d5713aafa"
    },
    {
      "cell_type": "code",
      "execution_count": null,
      "metadata": {
        "id": "1b13c701-e4fc-476e-9d25-b0a042c8bc97",
        "colab": {
          "base_uri": "https://localhost:8080/",
          "height": 327
        },
        "outputId": "a6943139-f31c-4592-d5ae-e02dee44a19a"
      },
      "outputs": [
        {
          "output_type": "error",
          "ename": "ModuleNotFoundError",
          "evalue": "ignored",
          "traceback": [
            "\u001b[0;31m---------------------------------------------------------------------------\u001b[0m",
            "\u001b[0;31mModuleNotFoundError\u001b[0m                       Traceback (most recent call last)",
            "\u001b[0;32m<ipython-input-42-f8d9a3ccd8c6>\u001b[0m in \u001b[0;36m<cell line: 1>\u001b[0;34m()\u001b[0m\n\u001b[0;32m----> 1\u001b[0;31m \u001b[0;32mimport\u001b[0m \u001b[0mNoSuchLibrary\u001b[0m\u001b[0;34m\u001b[0m\u001b[0;34m\u001b[0m\u001b[0m\n\u001b[0m",
            "\u001b[0;31mModuleNotFoundError\u001b[0m: No module named 'NoSuchLibrary'",
            "",
            "\u001b[0;31m---------------------------------------------------------------------------\u001b[0;32m\nNOTE: If your import is failing due to a missing package, you can\nmanually install dependencies using either !pip or !apt.\n\nTo view examples of installing some common dependencies, click the\n\"Open Examples\" button below.\n\u001b[0;31m---------------------------------------------------------------------------\u001b[0m\n"
          ],
          "errorDetails": {
            "actions": [
              {
                "action": "open_url",
                "actionText": "Open Examples",
                "url": "/notebooks/snippets/importing_libraries.ipynb"
              }
            ]
          }
        }
      ],
      "source": [
        "import NoSuchLibrary"
      ],
      "id": "1b13c701-e4fc-476e-9d25-b0a042c8bc97"
    },
    {
      "cell_type": "code",
      "execution_count": null,
      "metadata": {
        "id": "e707f92b-c9b5-45e0-99ef-c7049851e462",
        "colab": {
          "base_uri": "https://localhost:8080/",
          "height": 183
        },
        "outputId": "9e7dc1c2-0868-4e1e-eb29-c907ccaa3830"
      },
      "outputs": [
        {
          "output_type": "error",
          "ename": "NameError",
          "evalue": "ignored",
          "traceback": [
            "\u001b[0;31m---------------------------------------------------------------------------\u001b[0m",
            "\u001b[0;31mNameError\u001b[0m                                 Traceback (most recent call last)",
            "\u001b[0;32m<ipython-input-43-b6499aa2e891>\u001b[0m in \u001b[0;36m<cell line: 1>\u001b[0;34m()\u001b[0m\n\u001b[0;32m----> 1\u001b[0;31m \u001b[0mprint\u001b[0m\u001b[0;34m(\u001b[0m\u001b[0mxyz\u001b[0m\u001b[0;34m)\u001b[0m\u001b[0;34m\u001b[0m\u001b[0;34m\u001b[0m\u001b[0m\n\u001b[0m",
            "\u001b[0;31mNameError\u001b[0m: name 'xyz' is not defined"
          ]
        }
      ],
      "source": [
        "print(xyz)"
      ],
      "id": "e707f92b-c9b5-45e0-99ef-c7049851e462"
    },
    {
      "cell_type": "code",
      "execution_count": null,
      "metadata": {
        "id": "962fdb02-c1f5-4bdf-97a2-b4001547cbac",
        "colab": {
          "base_uri": "https://localhost:8080/",
          "height": 201
        },
        "outputId": "efc81a39-9bf5-43bc-9760-1a6eb047c114"
      },
      "outputs": [
        {
          "output_type": "error",
          "ename": "ZeroDivisionError",
          "evalue": "ignored",
          "traceback": [
            "\u001b[0;31m---------------------------------------------------------------------------\u001b[0m",
            "\u001b[0;31mZeroDivisionError\u001b[0m                         Traceback (most recent call last)",
            "\u001b[0;32m<ipython-input-44-595c686700fd>\u001b[0m in \u001b[0;36m<cell line: 2>\u001b[0;34m()\u001b[0m\n\u001b[1;32m      1\u001b[0m \u001b[0mx\u001b[0m\u001b[0;34m=\u001b[0m\u001b[0;36m0\u001b[0m\u001b[0;34m\u001b[0m\u001b[0;34m\u001b[0m\u001b[0m\n\u001b[0;32m----> 2\u001b[0;31m \u001b[0;36m5\u001b[0m\u001b[0;34m/\u001b[0m\u001b[0mx\u001b[0m\u001b[0;34m\u001b[0m\u001b[0;34m\u001b[0m\u001b[0m\n\u001b[0m",
            "\u001b[0;31mZeroDivisionError\u001b[0m: division by zero"
          ]
        }
      ],
      "source": [
        "x=0\n",
        "5/x"
      ],
      "id": "962fdb02-c1f5-4bdf-97a2-b4001547cbac"
    },
    {
      "cell_type": "markdown",
      "metadata": {
        "id": "8ca3c30e-1532-4c4b-b1a8-b8f5357cb090"
      },
      "source": [
        "### Functions"
      ],
      "id": "8ca3c30e-1532-4c4b-b1a8-b8f5357cb090"
    },
    {
      "cell_type": "markdown",
      "metadata": {
        "id": "0a3e4eb0-371a-4469-89a2-5a7e25cb25fa"
      },
      "source": [
        "Python functions are defined using the `def` keyword. For example:"
      ],
      "id": "0a3e4eb0-371a-4469-89a2-5a7e25cb25fa"
    },
    {
      "cell_type": "code",
      "execution_count": null,
      "metadata": {
        "id": "2971fd35-e033-42ea-a752-267ed07eae09",
        "colab": {
          "base_uri": "https://localhost:8080/"
        },
        "outputId": "ed5a0103-e79c-452f-8523-35cd8cebad84"
      },
      "outputs": [
        {
          "output_type": "stream",
          "name": "stdout",
          "text": [
            "negative\n",
            "zero\n",
            "positive\n"
          ]
        }
      ],
      "source": [
        "def sign(x):\n",
        "    if x > 0:\n",
        "        return 'positive'\n",
        "    elif x < 0:\n",
        "        return 'negative'\n",
        "    else:\n",
        "        return 'zero'\n",
        "\n",
        "for x in [-1, 0, 1]:\n",
        "    print(sign(x))"
      ],
      "id": "2971fd35-e033-42ea-a752-267ed07eae09"
    },
    {
      "cell_type": "markdown",
      "metadata": {
        "id": "f5231024-3756-4530-9009-9b385b441f76"
      },
      "source": [
        "We will often define functions to take optional keyword arguments, like this:"
      ],
      "id": "f5231024-3756-4530-9009-9b385b441f76"
    },
    {
      "cell_type": "code",
      "execution_count": null,
      "metadata": {
        "id": "862fb34c-0e8a-4cdc-be68-f1921f11db1f",
        "colab": {
          "base_uri": "https://localhost:8080/"
        },
        "outputId": "bd422783-e423-463e-d76b-91602a75a93a"
      },
      "outputs": [
        {
          "output_type": "stream",
          "name": "stdout",
          "text": [
            "Hello, Bob!\n",
            "HELLO, FRED\n"
          ]
        }
      ],
      "source": [
        "def hello(name, loud=False):\n",
        "    if loud:\n",
        "        print('HELLO, {}'.format(name.upper()))\n",
        "    else:\n",
        "        print('Hello, {}!'.format(name))\n",
        "\n",
        "hello('Bob')\n",
        "hello('Fred', loud=True)"
      ],
      "id": "862fb34c-0e8a-4cdc-be68-f1921f11db1f"
    },
    {
      "cell_type": "markdown",
      "metadata": {
        "id": "45db9bd6-27c3-4868-a302-a63f797eaf34"
      },
      "source": [
        "### Classes"
      ],
      "id": "45db9bd6-27c3-4868-a302-a63f797eaf34"
    },
    {
      "cell_type": "markdown",
      "metadata": {
        "id": "af8e8dfd-7bea-45a7-aa60-6e0f73009c25"
      },
      "source": [
        "The syntax for defining classes in Python is straightforward:"
      ],
      "id": "af8e8dfd-7bea-45a7-aa60-6e0f73009c25"
    },
    {
      "cell_type": "code",
      "execution_count": null,
      "metadata": {
        "id": "c9f9c3f5-7687-4206-8753-22eab01c1378",
        "colab": {
          "base_uri": "https://localhost:8080/"
        },
        "outputId": "b13b3e71-e1e8-4539-fff9-ca8a57ea7cd3"
      },
      "outputs": [
        {
          "output_type": "stream",
          "name": "stdout",
          "text": [
            "Hello, Fred!\n",
            "HELLO, FRED\n"
          ]
        }
      ],
      "source": [
        "class Greeter:\n",
        "\n",
        "    # Constructor\n",
        "    def __init__(self, name):\n",
        "        self.name = name  # Create an instance variable\n",
        "\n",
        "    # Instance method\n",
        "    def greet(self, loud=False):\n",
        "        if loud:\n",
        "          print('HELLO, {}'.format(self.name.upper()))\n",
        "        else:\n",
        "          print('Hello, {}!'.format(self.name))\n",
        "\n",
        "g = Greeter('Fred')  # Construct an instance of the Greeter class\n",
        "g.greet()            # Call an instance method; prints \"Hello, Fred\"\n",
        "g.greet(loud=True)   # Call an instance method; prints \"HELLO, FRED!\""
      ],
      "id": "c9f9c3f5-7687-4206-8753-22eab01c1378"
    },
    {
      "cell_type": "markdown",
      "metadata": {
        "id": "cc59a698-18ff-49dc-81de-75cff6b60238"
      },
      "source": [
        "## Numpy"
      ],
      "id": "cc59a698-18ff-49dc-81de-75cff6b60238"
    },
    {
      "cell_type": "markdown",
      "metadata": {
        "id": "9b03ac84-be50-45a7-8e01-6ff961459409"
      },
      "source": [
        "Numpy is the core library for scientific computing in Python. It provides a high-performance multidimensional array object, and tools for working with these arrays. If you are already familiar with MATLAB, you might find this [tutorial](http://wiki.scipy.org/NumPy_for_Matlab_Users) useful to get started with Numpy."
      ],
      "id": "9b03ac84-be50-45a7-8e01-6ff961459409"
    },
    {
      "cell_type": "markdown",
      "metadata": {
        "id": "f975758a-24ac-4b24-8fd2-4d1e210e7af2"
      },
      "source": [
        "To use Numpy, we first need to import the `numpy` package. By convention, we import it using the alias `np`. Then, when we want to use modules or functions in this library, we preface them with `np.`"
      ],
      "id": "f975758a-24ac-4b24-8fd2-4d1e210e7af2"
    },
    {
      "cell_type": "code",
      "execution_count": null,
      "metadata": {
        "id": "a951cbae-cf46-4aae-9e8c-578d4d95f68d"
      },
      "outputs": [],
      "source": [
        "import numpy as np"
      ],
      "id": "a951cbae-cf46-4aae-9e8c-578d4d95f68d"
    },
    {
      "cell_type": "markdown",
      "metadata": {
        "id": "b843a252-be8c-4c8d-849a-a6024e125708"
      },
      "source": [
        "### Arrays and array construction"
      ],
      "id": "b843a252-be8c-4c8d-849a-a6024e125708"
    },
    {
      "cell_type": "markdown",
      "metadata": {
        "id": "9452a410-b976-404d-a310-360a1ca11563"
      },
      "source": [
        "A numpy array is a grid of values, all of the same type, and is indexed by a tuple of nonnegative integers. The number of dimensions is the rank of the array; the shape of an array is a tuple of integers giving the size of the array along each dimension."
      ],
      "id": "9452a410-b976-404d-a310-360a1ca11563"
    },
    {
      "cell_type": "markdown",
      "metadata": {
        "id": "04cce99b-2f36-4e82-8927-656c2ef8d404"
      },
      "source": [
        "We can create a `numpy` array by passing a Python list to `np.array()`."
      ],
      "id": "04cce99b-2f36-4e82-8927-656c2ef8d404"
    },
    {
      "cell_type": "code",
      "execution_count": null,
      "metadata": {
        "id": "9b208671-4c69-4c7b-a319-7ac6d7f83b93"
      },
      "outputs": [],
      "source": [
        "a = np.array([1, 2, 3])  # Create a rank 1 array"
      ],
      "id": "9b208671-4c69-4c7b-a319-7ac6d7f83b93"
    },
    {
      "cell_type": "markdown",
      "metadata": {
        "id": "35285e07-4914-40d1-8371-9515273fd8be"
      },
      "source": [
        "This creates the array we can see on the right here:\n",
        "\n",
        "![](http://jalammar.github.io/images/numpy/create-numpy-array-1.png)"
      ],
      "id": "35285e07-4914-40d1-8371-9515273fd8be"
    },
    {
      "cell_type": "code",
      "execution_count": null,
      "metadata": {
        "id": "4dd1358c-be53-4e82-9fa6-d0658ecca238",
        "colab": {
          "base_uri": "https://localhost:8080/"
        },
        "outputId": "4d2bbb3a-96ec-440e-8553-448ad3a85dc3"
      },
      "outputs": [
        {
          "output_type": "stream",
          "name": "stdout",
          "text": [
            "<class 'numpy.ndarray'> (3,) 1 2 3\n",
            "[5 2 3]\n"
          ]
        }
      ],
      "source": [
        "print(type(a), a.shape, a[0], a[1], a[2])\n",
        "a[0] = 5                 # Change an element of the array\n",
        "print(a)"
      ],
      "id": "4dd1358c-be53-4e82-9fa6-d0658ecca238"
    },
    {
      "cell_type": "markdown",
      "metadata": {
        "id": "bf8fdae4-8755-45fb-9efe-47ea1a948e36"
      },
      "source": [
        "To create a `numpy` array with more dimensions, we can pass nested lists, like this:\n",
        "\n",
        "![](http://jalammar.github.io/images/numpy/numpy-array-create-2d.png)\n",
        "\n",
        "![](http://jalammar.github.io/images/numpy/numpy-3d-array.png)"
      ],
      "id": "bf8fdae4-8755-45fb-9efe-47ea1a948e36"
    },
    {
      "cell_type": "code",
      "execution_count": null,
      "metadata": {
        "id": "02fd701e-9eb5-4615-a21c-0f3ccee29b06",
        "colab": {
          "base_uri": "https://localhost:8080/"
        },
        "outputId": "d77ceea6-e758-455e-d1a7-74d695490c38"
      },
      "outputs": [
        {
          "output_type": "stream",
          "name": "stdout",
          "text": [
            "[[1 2]\n",
            " [3 4]]\n"
          ]
        }
      ],
      "source": [
        "b = np.array([[1,2],[3,4]])   # Create a rank 2 array\n",
        "print(b)"
      ],
      "id": "02fd701e-9eb5-4615-a21c-0f3ccee29b06"
    },
    {
      "cell_type": "code",
      "execution_count": null,
      "metadata": {
        "id": "b0c5d884-2a09-4cf4-a363-6dcf2222b02e",
        "colab": {
          "base_uri": "https://localhost:8080/"
        },
        "outputId": "2e479696-c773-49f2-c773-dfc1e291503b"
      },
      "outputs": [
        {
          "output_type": "stream",
          "name": "stdout",
          "text": [
            "(2, 2)\n"
          ]
        }
      ],
      "source": [
        "print(b.shape)"
      ],
      "id": "b0c5d884-2a09-4cf4-a363-6dcf2222b02e"
    },
    {
      "cell_type": "markdown",
      "metadata": {
        "id": "8d9a92cd-93b7-4e7d-941c-e34f0b6784fc"
      },
      "source": [
        "There are often cases when we want numpy to initialize the values of the array for us. numpy provides methods like `ones()`, `zeros()`, and `random.random()` for these cases. We just pass them the number of elements we want it to generate:\n",
        "\n",
        "![](http://jalammar.github.io/images/numpy/create-numpy-array-ones-zeros-random.png)"
      ],
      "id": "8d9a92cd-93b7-4e7d-941c-e34f0b6784fc"
    },
    {
      "cell_type": "markdown",
      "metadata": {
        "id": "b578a800-ae74-4c33-a439-6dc64194d24d"
      },
      "source": [
        "We can also use these methods to produce multi-dimensional arrays, as long as we pass them a tuple describing the dimensions of the matrix we want to create:\n",
        "\n",
        "![](http://jalammar.github.io/images/numpy/numpy-matrix-ones-zeros-random.png)\n",
        "\n",
        "![](http://jalammar.github.io/images/numpy/numpy-3d-array-creation.png)"
      ],
      "id": "b578a800-ae74-4c33-a439-6dc64194d24d"
    },
    {
      "cell_type": "markdown",
      "metadata": {
        "id": "af297767-679d-4c23-9b05-e2cf54d1bdbd"
      },
      "source": [
        "Sometimes, we need an array of a specific shape with “placeholder” values that we plan to fill in with the result of a computation. The `zeros` or `ones` functions are handy for this:"
      ],
      "id": "af297767-679d-4c23-9b05-e2cf54d1bdbd"
    },
    {
      "cell_type": "code",
      "execution_count": null,
      "metadata": {
        "id": "4c24b2e7-18be-4c78-91bb-bec0892e9efd",
        "colab": {
          "base_uri": "https://localhost:8080/"
        },
        "outputId": "a4a9ec7b-4b1d-45f2-b259-924b0fc435f1"
      },
      "outputs": [
        {
          "output_type": "stream",
          "name": "stdout",
          "text": [
            "[[0. 0.]\n",
            " [0. 0.]]\n"
          ]
        }
      ],
      "source": [
        "a = np.zeros((2,2))  # Create an array of all zeros\n",
        "print(a)"
      ],
      "id": "4c24b2e7-18be-4c78-91bb-bec0892e9efd"
    },
    {
      "cell_type": "code",
      "execution_count": null,
      "metadata": {
        "id": "a333b6b1-af60-452d-a015-f92c605f1ca2",
        "colab": {
          "base_uri": "https://localhost:8080/"
        },
        "outputId": "69759c7d-6802-4971-b0bf-7677d532ad4a"
      },
      "outputs": [
        {
          "output_type": "stream",
          "name": "stdout",
          "text": [
            "[[1. 1.]]\n"
          ]
        }
      ],
      "source": [
        "b = np.ones((1,2))   # Create an array of all ones\n",
        "print(b)"
      ],
      "id": "a333b6b1-af60-452d-a015-f92c605f1ca2"
    },
    {
      "cell_type": "code",
      "execution_count": null,
      "metadata": {
        "id": "f6ed2055-2a47-4271-8e19-cfd0d04935f8",
        "colab": {
          "base_uri": "https://localhost:8080/"
        },
        "outputId": "95590afc-2665-4ca3-f894-1afad9832eb1"
      },
      "outputs": [
        {
          "output_type": "stream",
          "name": "stdout",
          "text": [
            "[[7 7]\n",
            " [7 7]]\n"
          ]
        }
      ],
      "source": [
        "c = np.full((2,2), 7) # Create a constant array\n",
        "print(c)"
      ],
      "id": "f6ed2055-2a47-4271-8e19-cfd0d04935f8"
    },
    {
      "cell_type": "code",
      "execution_count": null,
      "metadata": {
        "id": "e96c3e62-aa33-4fd2-b166-5b9492425bee",
        "colab": {
          "base_uri": "https://localhost:8080/"
        },
        "outputId": "16892bd0-11c3-4ae7-85d4-a9a1337f7ed7"
      },
      "outputs": [
        {
          "output_type": "stream",
          "name": "stdout",
          "text": [
            "[[1. 0.]\n",
            " [0. 1.]]\n"
          ]
        }
      ],
      "source": [
        "d = np.eye(2)        # Create a 2x2 identity matrix\n",
        "print(d)"
      ],
      "id": "e96c3e62-aa33-4fd2-b166-5b9492425bee"
    },
    {
      "cell_type": "code",
      "execution_count": null,
      "metadata": {
        "id": "e9a65d88-6a6b-4a70-9927-77d852294dad",
        "colab": {
          "base_uri": "https://localhost:8080/"
        },
        "outputId": "d74cf8dc-ac7e-44c1-cd7a-8221a393ceb8"
      },
      "outputs": [
        {
          "output_type": "stream",
          "name": "stdout",
          "text": [
            "[[0.13998383 0.20969828]\n",
            " [0.18915522 0.01407678]]\n"
          ]
        }
      ],
      "source": [
        "e = np.random.random((2,2)) # Create an array filled with random values\n",
        "print(e)"
      ],
      "id": "e9a65d88-6a6b-4a70-9927-77d852294dad"
    },
    {
      "cell_type": "markdown",
      "metadata": {
        "id": "c1f056e2-f878-4bbd-bb84-cbdb7c7d7440"
      },
      "source": [
        "Lastly, I want to mention two very useful functions for creating sequences of numbers within a specified range, namely, arange and linspace. NumPy’s arange function follows the same syntax as Python’s range objects: If two arguments are provided, the first argument represents the start value and the second value defines the stop value of a half-open interval:"
      ],
      "id": "c1f056e2-f878-4bbd-bb84-cbdb7c7d7440"
    },
    {
      "cell_type": "markdown",
      "metadata": {
        "id": "3ddecc66-51e1-4528-b4f1-e496e1d18666"
      },
      "source": [
        "Numpy also has two useful functions for creating sequences of numbers: `arange` and `linspace`.\n",
        "\n",
        "The `arange` function accepts three arguments, which define the start value, stop value of a half-open interval, and step size. (The default step size, if not explicitly specified, is 1; the default start value, if not explicitly specified, is 0.)\n",
        "\n",
        "The `linspace` function is similar, but we can specify the number of values instead of the step size, and it will create a sequence of evenly spaced values."
      ],
      "id": "3ddecc66-51e1-4528-b4f1-e496e1d18666"
    },
    {
      "cell_type": "code",
      "execution_count": null,
      "metadata": {
        "id": "a59405ee-708e-492a-a6ee-4d71bd62a758",
        "colab": {
          "base_uri": "https://localhost:8080/"
        },
        "outputId": "bc3542c4-d047-4ffe-f4e7-25470b05072f"
      },
      "outputs": [
        {
          "output_type": "stream",
          "name": "stdout",
          "text": [
            "[10 15 20 25 30 35 40 45]\n"
          ]
        }
      ],
      "source": [
        "f = np.arange(10,50,5)   # Create an array of values starting at 10 in increments of 5\n",
        "print(f)"
      ],
      "id": "a59405ee-708e-492a-a6ee-4d71bd62a758"
    },
    {
      "cell_type": "markdown",
      "metadata": {
        "id": "ea168fa8-f7cd-42aa-9a85-9516ca7633a2"
      },
      "source": [
        "Note this ends on 45, not 50 (does not include the top end of the interval)."
      ],
      "id": "ea168fa8-f7cd-42aa-9a85-9516ca7633a2"
    },
    {
      "cell_type": "code",
      "execution_count": null,
      "metadata": {
        "id": "10878c52-3e73-40c8-ac06-ed9d0df58b45",
        "colab": {
          "base_uri": "https://localhost:8080/"
        },
        "outputId": "e373fafd-4323-40a7-9bdc-9551bfcf94d2"
      },
      "outputs": [
        {
          "output_type": "stream",
          "name": "stdout",
          "text": [
            "[0.   0.25 0.5  0.75 1.  ]\n"
          ]
        }
      ],
      "source": [
        "g = np.linspace(0., 1., num=5)\n",
        "print(g)"
      ],
      "id": "10878c52-3e73-40c8-ac06-ed9d0df58b45"
    },
    {
      "cell_type": "markdown",
      "metadata": {
        "id": "86887dfd-c08f-4f15-857a-e1757407663b"
      },
      "source": [
        "Sometimes, we may want to construct an array from existing arrays by “stacking” the existing arrays, either vertically or horizontally. We can use `vstack()` (or `row_stack`) and `hstack()` (or `column_stack`), respectively."
      ],
      "id": "86887dfd-c08f-4f15-857a-e1757407663b"
    },
    {
      "cell_type": "code",
      "execution_count": null,
      "metadata": {
        "id": "7f15db04-3401-455b-80d0-6ae032bb8cfb",
        "colab": {
          "base_uri": "https://localhost:8080/"
        },
        "outputId": "090bb71c-9cd2-4f7f-da91-dea59051fa73"
      },
      "outputs": [
        {
          "output_type": "execute_result",
          "data": {
            "text/plain": [
              "array([[1, 2, 3],\n",
              "       [4, 5, 6]])"
            ]
          },
          "metadata": {},
          "execution_count": 60
        }
      ],
      "source": [
        "a = np.array([1, 2, 3])\n",
        "b = np.array([4, 5, 6])\n",
        "np.vstack((a,b))"
      ],
      "id": "7f15db04-3401-455b-80d0-6ae032bb8cfb"
    },
    {
      "cell_type": "code",
      "execution_count": null,
      "metadata": {
        "id": "a08e284a-4c81-44f4-814f-f37982b421b4",
        "colab": {
          "base_uri": "https://localhost:8080/"
        },
        "outputId": "2f13a404-a29e-488f-c43e-12fbd94e54b0"
      },
      "outputs": [
        {
          "output_type": "execute_result",
          "data": {
            "text/plain": [
              "array([[7, 4],\n",
              "       [8, 5],\n",
              "       [9, 6]])"
            ]
          },
          "metadata": {},
          "execution_count": 61
        }
      ],
      "source": [
        "a = np.array([[7], [8], [9]])\n",
        "b = np.array([[4], [5], [6]])\n",
        "np.hstack((a,b))"
      ],
      "id": "a08e284a-4c81-44f4-814f-f37982b421b4"
    },
    {
      "cell_type": "markdown",
      "metadata": {
        "id": "f198ef0d-98ef-4519-bb74-d3169aec5aa9"
      },
      "source": [
        "### Array indexing"
      ],
      "id": "f198ef0d-98ef-4519-bb74-d3169aec5aa9"
    },
    {
      "cell_type": "markdown",
      "metadata": {
        "id": "c3664de6-773d-4c06-84a0-27e4cae9e3ec"
      },
      "source": [
        "Numpy offers several ways to index into arrays."
      ],
      "id": "c3664de6-773d-4c06-84a0-27e4cae9e3ec"
    },
    {
      "cell_type": "markdown",
      "metadata": {
        "id": "c03e15d1-3033-4fbc-82c0-8b7cf967d08b"
      },
      "source": [
        "We can index and slice numpy arrays in all the ways we can slice Python lists:\n",
        "\n",
        "![](http://jalammar.github.io/images/numpy/numpy-array-slice.png)\n",
        "\n",
        "And you can index and slice numpy arrays in multiple dimensions. If slicing an array with more than one dimension, you should specify a slice for each dimension:\n",
        "\n",
        "![](http://jalammar.github.io/images/numpy/numpy-matrix-indexing.png)"
      ],
      "id": "c03e15d1-3033-4fbc-82c0-8b7cf967d08b"
    },
    {
      "cell_type": "code",
      "execution_count": null,
      "metadata": {
        "id": "794a72bb-1250-4c6d-a3a6-3e588b5c52e8",
        "colab": {
          "base_uri": "https://localhost:8080/"
        },
        "outputId": "f49ec8bb-dd6a-447c-a278-df96527bee41"
      },
      "outputs": [
        {
          "output_type": "stream",
          "name": "stdout",
          "text": [
            "[[2 3]\n",
            " [6 7]]\n"
          ]
        }
      ],
      "source": [
        "# Create the following rank 2 array with shape (3, 4)\n",
        "# [[ 1  2  3  4]\n",
        "#  [ 5  6  7  8]\n",
        "#  [ 9 10 11 12]]\n",
        "a = np.array([[1,2,3,4], [5,6,7,8], [9,10,11,12]])\n",
        "\n",
        "# Use slicing to pull out the subarray consisting of the first 2 rows\n",
        "# and columns 1 and 2; b is the following array of shape (2, 2):\n",
        "# [[2 3]\n",
        "#  [6 7]]\n",
        "b = a[:2, 1:3]\n",
        "print(b)"
      ],
      "id": "794a72bb-1250-4c6d-a3a6-3e588b5c52e8"
    },
    {
      "cell_type": "markdown",
      "metadata": {
        "id": "5a61337f-e7d9-46dc-9468-e38e501ed16b"
      },
      "source": [
        "A slice of an array is a view into the same data, so modifying it will modify the original array."
      ],
      "id": "5a61337f-e7d9-46dc-9468-e38e501ed16b"
    },
    {
      "cell_type": "code",
      "execution_count": null,
      "metadata": {
        "id": "3aee8664-c460-4743-b47c-e4fb556af0b2",
        "colab": {
          "base_uri": "https://localhost:8080/"
        },
        "outputId": "d01efb55-b67e-4984-e94a-6dce764b92c3"
      },
      "outputs": [
        {
          "output_type": "stream",
          "name": "stdout",
          "text": [
            "2\n",
            "77\n"
          ]
        }
      ],
      "source": [
        "print(a[0, 1])\n",
        "b[0, 0] = 77    # b[0, 0] is the same piece of data as a[0, 1]\n",
        "print(a[0, 1])"
      ],
      "id": "3aee8664-c460-4743-b47c-e4fb556af0b2"
    },
    {
      "cell_type": "markdown",
      "metadata": {
        "id": "f252fa9c-a4a1-48e8-a352-9d5a570d5fa8"
      },
      "source": [
        "You can also mix integer indexing with slice indexing. However, doing so will yield an array of lower rank than the original array. Note that this is quite different from the way that MATLAB handles array slicing:"
      ],
      "id": "f252fa9c-a4a1-48e8-a352-9d5a570d5fa8"
    },
    {
      "cell_type": "code",
      "execution_count": null,
      "metadata": {
        "id": "35e88816-8133-49e0-aa57-fffa74c3d561",
        "colab": {
          "base_uri": "https://localhost:8080/"
        },
        "outputId": "9bcc3c78-a707-4356-9b08-7d208727fc74"
      },
      "outputs": [
        {
          "output_type": "stream",
          "name": "stdout",
          "text": [
            "[[ 1  2  3  4]\n",
            " [ 5  6  7  8]\n",
            " [ 9 10 11 12]]\n"
          ]
        }
      ],
      "source": [
        "# Create the following rank 2 array with shape (3, 4)\n",
        "a = np.array([[1,2,3,4], [5,6,7,8], [9,10,11,12]])\n",
        "print(a)"
      ],
      "id": "35e88816-8133-49e0-aa57-fffa74c3d561"
    },
    {
      "cell_type": "markdown",
      "metadata": {
        "id": "b643694b-70dd-4880-8cf1-65ca84b50c6a"
      },
      "source": [
        "Two ways of accessing the data in the middle row of the array. Mixing integer indexing with slices yields an array of lower rank, while using only slices yields an array of the same rank as the original array:"
      ],
      "id": "b643694b-70dd-4880-8cf1-65ca84b50c6a"
    },
    {
      "cell_type": "code",
      "execution_count": null,
      "metadata": {
        "id": "7440e47a-2d0f-4f29-bf19-4a1fd35e1e8b",
        "colab": {
          "base_uri": "https://localhost:8080/"
        },
        "outputId": "4b9cdfce-d07f-4b7d-f636-0b5ec7608e1e"
      },
      "outputs": [
        {
          "output_type": "stream",
          "name": "stdout",
          "text": [
            "[5 6 7 8] (4,)\n",
            "[[5 6 7 8]] (1, 4)\n",
            "[[5 6 7 8]] (1, 4)\n"
          ]
        }
      ],
      "source": [
        "row_r1 = a[1, :]    # Rank 1 view of the second row of a\n",
        "row_r2 = a[1:2, :]  # Rank 2 view of the second row of a\n",
        "row_r3 = a[[1], :]  # Rank 2 view of the second row of a\n",
        "print(row_r1, row_r1.shape)\n",
        "print(row_r2, row_r2.shape)\n",
        "print(row_r3, row_r3.shape)"
      ],
      "id": "7440e47a-2d0f-4f29-bf19-4a1fd35e1e8b"
    },
    {
      "cell_type": "code",
      "execution_count": null,
      "metadata": {
        "id": "ff404e94-bd4f-4899-aafc-661ef9478ec2",
        "colab": {
          "base_uri": "https://localhost:8080/"
        },
        "outputId": "091d0f48-45b7-450b-bf5d-5882278a5a9b"
      },
      "outputs": [
        {
          "output_type": "stream",
          "name": "stdout",
          "text": [
            "[ 2  6 10] (3,)\n",
            "\n",
            "[[ 2]\n",
            " [ 6]\n",
            " [10]] (3, 1)\n"
          ]
        }
      ],
      "source": [
        "# We can make the same distinction when accessing columns of an array:\n",
        "col_r1 = a[:, 1]\n",
        "col_r2 = a[:, 1:2]\n",
        "print(col_r1, col_r1.shape)\n",
        "print()\n",
        "print(col_r2, col_r2.shape)"
      ],
      "id": "ff404e94-bd4f-4899-aafc-661ef9478ec2"
    },
    {
      "cell_type": "markdown",
      "metadata": {
        "id": "96afa791-8669-489f-9838-8a2144e830ed"
      },
      "source": [
        "Integer array indexing: When you index into numpy arrays using slicing, the resulting array view will always be a subarray of the original array. In contrast, integer array indexing allows you to construct arbitrary arrays using the data from another array. Here is an example:"
      ],
      "id": "96afa791-8669-489f-9838-8a2144e830ed"
    },
    {
      "cell_type": "code",
      "execution_count": null,
      "metadata": {
        "id": "8077a6fd-ec20-4ec0-890e-1a8c274f6780",
        "colab": {
          "base_uri": "https://localhost:8080/"
        },
        "outputId": "1b1a1a13-229e-43e7-c978-53695a3d2093"
      },
      "outputs": [
        {
          "output_type": "stream",
          "name": "stdout",
          "text": [
            "[1 4 5]\n",
            "[1 4 5]\n"
          ]
        }
      ],
      "source": [
        "a = np.array([[1,2], [3, 4], [5, 6]])\n",
        "\n",
        "# An example of integer array indexing.\n",
        "# The returned array will have shape (3,) and\n",
        "print(a[[0, 1, 2], [0, 1, 0]])\n",
        "\n",
        "# The above example of integer array indexing is equivalent to this:\n",
        "print(np.array([a[0, 0], a[1, 1], a[2, 0]]))"
      ],
      "id": "8077a6fd-ec20-4ec0-890e-1a8c274f6780"
    },
    {
      "cell_type": "code",
      "execution_count": null,
      "metadata": {
        "id": "dfd45a50-1565-4d98-9624-ef974730c660",
        "colab": {
          "base_uri": "https://localhost:8080/"
        },
        "outputId": "9bfffdd4-3187-4082-f0be-832854aefc42"
      },
      "outputs": [
        {
          "output_type": "stream",
          "name": "stdout",
          "text": [
            "[2 2]\n",
            "[2 2]\n"
          ]
        }
      ],
      "source": [
        "# When using integer array indexing, you can reuse the same\n",
        "# element from the source array:\n",
        "print(a[[0, 0], [1, 1]])\n",
        "\n",
        "# Equivalent to the previous integer array indexing example\n",
        "print(np.array([a[0, 1], a[0, 1]]))"
      ],
      "id": "dfd45a50-1565-4d98-9624-ef974730c660"
    },
    {
      "cell_type": "markdown",
      "metadata": {
        "id": "a535c254-65e2-4a59-9ce2-a15b6c3cff6b"
      },
      "source": [
        "One useful trick with integer array indexing is selecting or mutating one element from each row of a matrix:"
      ],
      "id": "a535c254-65e2-4a59-9ce2-a15b6c3cff6b"
    },
    {
      "cell_type": "code",
      "execution_count": null,
      "metadata": {
        "id": "c7d6dc03-3421-47fc-8134-6d3305fa8415",
        "colab": {
          "base_uri": "https://localhost:8080/"
        },
        "outputId": "ed8919f8-a444-4a18-c58a-8df48097d9d2"
      },
      "outputs": [
        {
          "output_type": "stream",
          "name": "stdout",
          "text": [
            "[[ 1  2  3]\n",
            " [ 4  5  6]\n",
            " [ 7  8  9]\n",
            " [10 11 12]]\n"
          ]
        }
      ],
      "source": [
        "# Create a new array from which we will select elements\n",
        "a = np.array([[1,2,3], [4,5,6], [7,8,9], [10, 11, 12]])\n",
        "print(a)"
      ],
      "id": "c7d6dc03-3421-47fc-8134-6d3305fa8415"
    },
    {
      "cell_type": "code",
      "execution_count": null,
      "metadata": {
        "id": "af20c22c-6e5e-44a3-8a7a-6227964bb566",
        "colab": {
          "base_uri": "https://localhost:8080/"
        },
        "outputId": "2f76c120-1693-4333-926c-2c6410c7d35a"
      },
      "outputs": [
        {
          "output_type": "stream",
          "name": "stdout",
          "text": [
            "[ 1  6  7 11]\n"
          ]
        }
      ],
      "source": [
        "# Create an array of indices\n",
        "b = np.array([0, 2, 0, 1])\n",
        "\n",
        "# Select one element from each row of a using the indices in b\n",
        "print(a[np.arange(4), b])  # Prints \"[ 1  6  7 11]\""
      ],
      "id": "af20c22c-6e5e-44a3-8a7a-6227964bb566"
    },
    {
      "cell_type": "code",
      "execution_count": null,
      "metadata": {
        "id": "3c78a48b-8e4e-4479-87d4-31ac45ec16f3",
        "colab": {
          "base_uri": "https://localhost:8080/"
        },
        "outputId": "ad293d07-6bf1-41be-e800-6c2ac434980d"
      },
      "outputs": [
        {
          "output_type": "stream",
          "name": "stdout",
          "text": [
            "[[11  2  3]\n",
            " [ 4  5 16]\n",
            " [17  8  9]\n",
            " [10 21 12]]\n"
          ]
        }
      ],
      "source": [
        "# Mutate one element from each row of a using the indices in b\n",
        "a[np.arange(4), b] += 10\n",
        "print(a)"
      ],
      "id": "3c78a48b-8e4e-4479-87d4-31ac45ec16f3"
    },
    {
      "cell_type": "markdown",
      "metadata": {
        "id": "a8e3bde2-ac9c-44cd-8045-aa431ec4395d"
      },
      "source": [
        "Boolean array indexing: Boolean array indexing lets you pick out arbitrary elements of an array. Frequently this type of indexing is used to select the elements of an array that satisfy some condition. Here is an example:"
      ],
      "id": "a8e3bde2-ac9c-44cd-8045-aa431ec4395d"
    },
    {
      "cell_type": "code",
      "execution_count": null,
      "metadata": {
        "id": "ae625aa8-aad7-4355-9a72-f09ea7552f09",
        "colab": {
          "base_uri": "https://localhost:8080/"
        },
        "outputId": "f1fbfcae-6d90-40c0-b2c0-e058af7c26cd"
      },
      "outputs": [
        {
          "output_type": "stream",
          "name": "stdout",
          "text": [
            "[[False False]\n",
            " [ True  True]\n",
            " [ True  True]]\n"
          ]
        }
      ],
      "source": [
        "import numpy as np\n",
        "\n",
        "a = np.array([[1,2], [3, 4], [5, 6]])\n",
        "\n",
        "bool_idx = (a > 2)  # Find the elements of a that are bigger than 2;\n",
        "                    # this returns a numpy array of Booleans of the same\n",
        "                    # shape as a, where each slot of bool_idx tells\n",
        "                    # whether that element of a is > 2.\n",
        "\n",
        "print(bool_idx)"
      ],
      "id": "ae625aa8-aad7-4355-9a72-f09ea7552f09"
    },
    {
      "cell_type": "code",
      "execution_count": null,
      "metadata": {
        "id": "cfbce486-4e98-4279-a1a3-be329e892891",
        "colab": {
          "base_uri": "https://localhost:8080/"
        },
        "outputId": "b0f43049-ef52-4eda-bb68-89a4ccb132be"
      },
      "outputs": [
        {
          "output_type": "stream",
          "name": "stdout",
          "text": [
            "[3 4 5 6]\n",
            "[3 4 5 6]\n"
          ]
        }
      ],
      "source": [
        "# We use boolean array indexing to construct a rank 1 array\n",
        "# consisting of the elements of a corresponding to the True values\n",
        "# of bool_idx\n",
        "print(a[bool_idx])\n",
        "\n",
        "# We can do all of the above in a single concise statement:\n",
        "print(a[a > 2])"
      ],
      "id": "cfbce486-4e98-4279-a1a3-be329e892891"
    },
    {
      "cell_type": "markdown",
      "metadata": {
        "id": "f6b41090-6e97-4272-b568-cef80328f2c9"
      },
      "source": [
        "When working with numpy arrays, it’s often helpful to get the *indices* (not only the values) of array elements that meet certain conditions. There are a few numpy functions that you’ll definitely want to remember:\n",
        "\n",
        "-   [`argmax`](https://numpy.org/doc/stable/reference/generated/numpy.argmax.html) (get index of maximum element in array)\n",
        "-   [`argmin`](https://numpy.org/doc/stable/reference/generated/numpy.argmin.html) (get index of minimum element in array)\n",
        "-   [`argsort`](https://numpy.org/doc/stable/reference/generated/numpy.argsort.html) (get sorted list of indices, by element value, in ascending order)\n",
        "-   [`where`](https://numpy.org/doc/stable/reference/generated/numpy.where.html) (get indices of elements that meet some condition)"
      ],
      "id": "f6b41090-6e97-4272-b568-cef80328f2c9"
    },
    {
      "cell_type": "code",
      "execution_count": null,
      "metadata": {
        "id": "772df470-92e1-4553-9751-c1a0d2df66b6",
        "colab": {
          "base_uri": "https://localhost:8080/"
        },
        "outputId": "f15fb071-dfa1-489b-83f7-8c66014e8c67"
      },
      "outputs": [
        {
          "output_type": "stream",
          "name": "stdout",
          "text": [
            "2\n",
            "3\n",
            "[3 0 4 5 6 1 2 7]\n",
            "[7 2 1 6 5 4 0 3]\n",
            "[1 2 6 7]\n",
            "[2 7]\n"
          ]
        }
      ],
      "source": [
        "a = np.array([1, 8, 9, -3, 2, 4, 7, 9])\n",
        "\n",
        "# Get the index of the maximum element in a\n",
        "print(np.argmax(a))\n",
        "\n",
        "# Get the index of the minimum element in a\n",
        "# (this array has two elements with the maximum value -\n",
        "# only one index is returned)\n",
        "print(np.argmin(a))\n",
        "\n",
        "# Get sorted list of indices\n",
        "print(np.argsort(a))\n",
        "\n",
        "# Get sorted list of indices in descending order\n",
        "# [::-1] is a special slicing index that returns the reversed list\n",
        "print(np.argsort(a)[::-1])\n",
        "\n",
        "# Get indices of elements that meet some condition\n",
        "# this returns a tuple, the list of indices is the first entry\n",
        "# so we use [0] to get it\n",
        "print(np.where(a > 5)[0])\n",
        "\n",
        "# Get indices of elements that meet some condition\n",
        "# this example shows how to get the index of *all* the max values\n",
        "print(np.where(a >= a[np.argmax(a)])[0])"
      ],
      "id": "772df470-92e1-4553-9751-c1a0d2df66b6"
    },
    {
      "cell_type": "markdown",
      "metadata": {
        "id": "79e6169c-2d2a-4018-b9ff-3093ec4f7774"
      },
      "source": [
        "For brevity we have left out a lot of details about numpy array indexing; if you want to know more you should read the documentation."
      ],
      "id": "79e6169c-2d2a-4018-b9ff-3093ec4f7774"
    },
    {
      "cell_type": "markdown",
      "metadata": {
        "id": "d9d8c017-57ac-4a8f-b1e4-07e5c8803b5e"
      },
      "source": [
        "### Datatypes"
      ],
      "id": "d9d8c017-57ac-4a8f-b1e4-07e5c8803b5e"
    },
    {
      "cell_type": "markdown",
      "metadata": {
        "id": "11b5cea6-6bdc-4027-997f-11c60b70412d"
      },
      "source": [
        "Every numpy array is a grid of elements of the same type. Numpy provides a large set of numeric datatypes that you can use to construct arrays. Numpy tries to guess a datatype when you create an array, but functions that construct arrays usually also include an optional argument to explicitly specify the datatype. Here is an example:"
      ],
      "id": "11b5cea6-6bdc-4027-997f-11c60b70412d"
    },
    {
      "cell_type": "code",
      "execution_count": null,
      "metadata": {
        "id": "5fe0b518-96c4-46bd-b0b6-d6f14a59edb2",
        "colab": {
          "base_uri": "https://localhost:8080/"
        },
        "outputId": "4863c115-cd52-442d-b1f7-03881196fb91"
      },
      "outputs": [
        {
          "output_type": "stream",
          "name": "stdout",
          "text": [
            "int64 float64 int64\n"
          ]
        }
      ],
      "source": [
        "x = np.array([1, 2])  # Let numpy choose the datatype\n",
        "y = np.array([1.0, 2.0])  # Let numpy choose the datatype\n",
        "z = np.array([1, 2], dtype=np.int64)  # Force a particular datatype\n",
        "\n",
        "print(x.dtype, y.dtype, z.dtype)"
      ],
      "id": "5fe0b518-96c4-46bd-b0b6-d6f14a59edb2"
    },
    {
      "cell_type": "markdown",
      "metadata": {
        "id": "29484c94-51f1-4cca-9132-b3a957c80493"
      },
      "source": [
        "You can read all about numpy datatypes in the [documentation](http://docs.scipy.org/doc/numpy/reference/arrays.dtypes.html)."
      ],
      "id": "29484c94-51f1-4cca-9132-b3a957c80493"
    },
    {
      "cell_type": "markdown",
      "metadata": {
        "id": "466bdfe1-1302-4943-82ed-f554cab96152"
      },
      "source": [
        "### Array math"
      ],
      "id": "466bdfe1-1302-4943-82ed-f554cab96152"
    },
    {
      "cell_type": "markdown",
      "metadata": {
        "id": "2cd4c6fa-cb67-42c3-9e15-3fea748494f3"
      },
      "source": [
        "What makes working with `numpy` so powerful and convenient is that it comes with many *vectorized* math functions for computation over elements of an array. These functions are highly optimized and are *very* fast - much, much faster than using an explicit `for` loop.\n",
        "\n",
        "For example, let’s create a large array of random values and then sum it both ways. We’ll use a `%%time` *cell magic* to time them."
      ],
      "id": "2cd4c6fa-cb67-42c3-9e15-3fea748494f3"
    },
    {
      "cell_type": "code",
      "execution_count": null,
      "metadata": {
        "id": "161d1c4a-bf51-4445-910a-9f7cb54ebea2"
      },
      "outputs": [],
      "source": [
        "a = np.random.random(100000000)"
      ],
      "id": "161d1c4a-bf51-4445-910a-9f7cb54ebea2"
    },
    {
      "cell_type": "code",
      "execution_count": null,
      "metadata": {
        "id": "873ee1f7-2338-4737-afca-2b01ca1ca0c3",
        "colab": {
          "base_uri": "https://localhost:8080/"
        },
        "outputId": "d1b313cc-5dfd-4cf1-8904-6d528ffaac5c"
      },
      "outputs": [
        {
          "output_type": "stream",
          "name": "stdout",
          "text": [
            "CPU times: user 54.5 ms, sys: 0 ns, total: 54.5 ms\n",
            "Wall time: 58.7 ms\n"
          ]
        }
      ],
      "source": [
        "%%time\n",
        "x = np.sum(a)"
      ],
      "id": "873ee1f7-2338-4737-afca-2b01ca1ca0c3"
    },
    {
      "cell_type": "code",
      "execution_count": null,
      "metadata": {
        "id": "937137da-10bd-41bb-8bdb-39938eeba94a",
        "colab": {
          "base_uri": "https://localhost:8080/"
        },
        "outputId": "b5d86527-e1b2-4f5c-dbb7-c26ab0329bbe"
      },
      "outputs": [
        {
          "output_type": "stream",
          "name": "stdout",
          "text": [
            "CPU times: user 12.5 s, sys: 0 ns, total: 12.5 s\n",
            "Wall time: 12.6 s\n"
          ]
        }
      ],
      "source": [
        "%%time\n",
        "x = 0\n",
        "for element in a:\n",
        "  x = x + element"
      ],
      "id": "937137da-10bd-41bb-8bdb-39938eeba94a"
    },
    {
      "cell_type": "markdown",
      "metadata": {
        "id": "7a3b70d4-1643-4e08-8cc5-9192264f6c6c"
      },
      "source": [
        "Look at the “Wall Time” in the output - note how much faster the vectorized version of the operation is! This type of fast computation is a major enabler of machine learning, which requires a *lot* of computation.\n",
        "\n",
        "Whenever possible, we will try to use these vectorized operations."
      ],
      "id": "7a3b70d4-1643-4e08-8cc5-9192264f6c6c"
    },
    {
      "cell_type": "markdown",
      "metadata": {
        "id": "a23b0e3e-69b2-41bc-92b6-1b0f6b460702"
      },
      "source": [
        "Some mathematic functions are available both as operator overloads and as functions in the numpy module."
      ],
      "id": "a23b0e3e-69b2-41bc-92b6-1b0f6b460702"
    },
    {
      "cell_type": "markdown",
      "metadata": {
        "id": "89be67dd-cfe7-4a59-9a34-37dbb5c7cf30"
      },
      "source": [
        "For example, you can perform an elementwise sum on two arrays using either the + operator or the `add()` function.\n",
        "\n",
        "![](http://jalammar.github.io/images/numpy/numpy-arrays-adding-1.png)\n",
        "\n",
        "![](http://jalammar.github.io/images/numpy/numpy-matrix-arithmetic.png)"
      ],
      "id": "89be67dd-cfe7-4a59-9a34-37dbb5c7cf30"
    },
    {
      "cell_type": "code",
      "execution_count": null,
      "metadata": {
        "id": "688e172a-e895-448a-8b62-cd9156027e64",
        "colab": {
          "base_uri": "https://localhost:8080/"
        },
        "outputId": "ef3e7ea6-96c0-4ba3-f16b-ebe1d17af784"
      },
      "outputs": [
        {
          "output_type": "stream",
          "name": "stdout",
          "text": [
            "[[ 6.  8.]\n",
            " [10. 12.]]\n",
            "[[ 6.  8.]\n",
            " [10. 12.]]\n"
          ]
        }
      ],
      "source": [
        "x = np.array([[1,2],[3,4]], dtype=np.float64)\n",
        "y = np.array([[5,6],[7,8]], dtype=np.float64)\n",
        "\n",
        "# Elementwise sum; both produce the array\n",
        "print(x + y)\n",
        "print(np.add(x, y))"
      ],
      "id": "688e172a-e895-448a-8b62-cd9156027e64"
    },
    {
      "cell_type": "markdown",
      "metadata": {
        "id": "2c7d955a-9347-4d14-98c9-9dd493969f41"
      },
      "source": [
        "And this works for other operations as well, not only addition:\n",
        "\n",
        "![](http://jalammar.github.io/images/numpy/numpy-array-subtract-multiply-divide.png)"
      ],
      "id": "2c7d955a-9347-4d14-98c9-9dd493969f41"
    },
    {
      "cell_type": "code",
      "execution_count": null,
      "metadata": {
        "id": "ad79adff-437a-4625-a306-d0cf4879490c",
        "colab": {
          "base_uri": "https://localhost:8080/"
        },
        "outputId": "8a379930-0b97-4758-a0a3-ceb79cd5f95d"
      },
      "outputs": [
        {
          "output_type": "stream",
          "name": "stdout",
          "text": [
            "[[-4. -4.]\n",
            " [-4. -4.]]\n",
            "[[-4. -4.]\n",
            " [-4. -4.]]\n"
          ]
        }
      ],
      "source": [
        "# Elementwise difference; both produce the array\n",
        "print(x - y)\n",
        "print(np.subtract(x, y))"
      ],
      "id": "ad79adff-437a-4625-a306-d0cf4879490c"
    },
    {
      "cell_type": "code",
      "execution_count": null,
      "metadata": {
        "id": "236d2f21-dfa3-459e-afa7-78375212ba6d",
        "colab": {
          "base_uri": "https://localhost:8080/"
        },
        "outputId": "88a39b50-ce21-4245-a11d-cd7a0e0f17ff"
      },
      "outputs": [
        {
          "output_type": "stream",
          "name": "stdout",
          "text": [
            "[[ 5. 12.]\n",
            " [21. 32.]]\n",
            "[[ 5. 12.]\n",
            " [21. 32.]]\n"
          ]
        }
      ],
      "source": [
        "# Elementwise product; both produce the array\n",
        "print(x * y)\n",
        "print(np.multiply(x, y))"
      ],
      "id": "236d2f21-dfa3-459e-afa7-78375212ba6d"
    },
    {
      "cell_type": "code",
      "execution_count": null,
      "metadata": {
        "id": "65c9f402-1219-4552-b90c-77313c29a664",
        "colab": {
          "base_uri": "https://localhost:8080/"
        },
        "outputId": "b86c52ba-6779-4c67-a387-95e1e7cb24f1"
      },
      "outputs": [
        {
          "output_type": "stream",
          "name": "stdout",
          "text": [
            "[[0.2        0.33333333]\n",
            " [0.42857143 0.5       ]]\n",
            "[[0.2        0.33333333]\n",
            " [0.42857143 0.5       ]]\n"
          ]
        }
      ],
      "source": [
        "# Elementwise division; both produce the array\n",
        "# [[ 0.2         0.33333333]\n",
        "#  [ 0.42857143  0.5       ]]\n",
        "print(x / y)\n",
        "print(np.divide(x, y))"
      ],
      "id": "65c9f402-1219-4552-b90c-77313c29a664"
    },
    {
      "cell_type": "code",
      "execution_count": null,
      "metadata": {
        "id": "a2c0362b-9961-44ee-9112-7f5e65c7314a",
        "colab": {
          "base_uri": "https://localhost:8080/"
        },
        "outputId": "d10a9f59-058d-439a-db9c-592d480569d5"
      },
      "outputs": [
        {
          "output_type": "stream",
          "name": "stdout",
          "text": [
            "[[1.         1.41421356]\n",
            " [1.73205081 2.        ]]\n"
          ]
        }
      ],
      "source": [
        "# Elementwise square root; produces the array\n",
        "# [[ 1.          1.41421356]\n",
        "#  [ 1.73205081  2.        ]]\n",
        "print(np.sqrt(x))"
      ],
      "id": "a2c0362b-9961-44ee-9112-7f5e65c7314a"
    },
    {
      "cell_type": "markdown",
      "metadata": {
        "id": "3dbcea78-0bd3-4f23-9bcc-af9c6a405c8a"
      },
      "source": [
        "Note that unlike MATLAB, `*` is elementwise multiplication, not matrix multiplication. We instead use the `dot()` function to compute inner products of vectors, to multiply a vector by a matrix, and to multiply matrices. `dot()` is available both as a function in the numpy module and as an instance method of array objects:\n",
        "\n",
        "![](http://jalammar.github.io/images/numpy/numpy-matrix-dot-product-1.png)"
      ],
      "id": "3dbcea78-0bd3-4f23-9bcc-af9c6a405c8a"
    },
    {
      "cell_type": "code",
      "execution_count": null,
      "metadata": {
        "id": "8537732a-5889-4a26-b719-0c53faffb451",
        "colab": {
          "base_uri": "https://localhost:8080/"
        },
        "outputId": "dc5fa075-1ae5-440e-b7f3-b8b007526ff9"
      },
      "outputs": [
        {
          "output_type": "stream",
          "name": "stdout",
          "text": [
            "219\n",
            "219\n"
          ]
        }
      ],
      "source": [
        "x = np.array([[1,2],[3,4]])\n",
        "y = np.array([[5,6],[7,8]])\n",
        "\n",
        "v = np.array([9,10])\n",
        "w = np.array([11, 12])\n",
        "\n",
        "# Inner product of vectors; both produce 219\n",
        "print(v.dot(w))\n",
        "print(np.dot(v, w))"
      ],
      "id": "8537732a-5889-4a26-b719-0c53faffb451"
    },
    {
      "cell_type": "markdown",
      "metadata": {
        "id": "260c0711-d1b1-4353-b992-d986bc7b5800"
      },
      "source": [
        "You can also use the `@` operator which is equivalent to numpy's `dot` operator."
      ],
      "id": "260c0711-d1b1-4353-b992-d986bc7b5800"
    },
    {
      "cell_type": "code",
      "execution_count": null,
      "metadata": {
        "id": "e142adb7-f49a-4460-95bb-fbf94a8a5214",
        "colab": {
          "base_uri": "https://localhost:8080/"
        },
        "outputId": "bc98aa79-62ad-4d09-c761-d82bd00a9774"
      },
      "outputs": [
        {
          "output_type": "stream",
          "name": "stdout",
          "text": [
            "219\n"
          ]
        }
      ],
      "source": [
        "print(v @ w)"
      ],
      "id": "e142adb7-f49a-4460-95bb-fbf94a8a5214"
    },
    {
      "cell_type": "code",
      "execution_count": null,
      "metadata": {
        "id": "da5bb93f-2003-4993-9239-d53db0a12622",
        "colab": {
          "base_uri": "https://localhost:8080/"
        },
        "outputId": "181119ba-b08c-4dcd-de6f-bc906c0ac35c"
      },
      "outputs": [
        {
          "output_type": "stream",
          "name": "stdout",
          "text": [
            "[29 67]\n",
            "[29 67]\n",
            "[29 67]\n"
          ]
        }
      ],
      "source": [
        "# Matrix / vector product; both produce the rank 1 array [29 67]\n",
        "print(x.dot(v))\n",
        "print(np.dot(x, v))\n",
        "print(x @ v)"
      ],
      "id": "da5bb93f-2003-4993-9239-d53db0a12622"
    },
    {
      "cell_type": "code",
      "execution_count": null,
      "metadata": {
        "id": "8c765c60-9a8b-4d66-b527-762f424089f8",
        "colab": {
          "base_uri": "https://localhost:8080/"
        },
        "outputId": "d50b34b0-9334-4961-e53f-9c4533bc4999"
      },
      "outputs": [
        {
          "output_type": "stream",
          "name": "stdout",
          "text": [
            "[[19 22]\n",
            " [43 50]]\n",
            "[[19 22]\n",
            " [43 50]]\n",
            "[[19 22]\n",
            " [43 50]]\n"
          ]
        }
      ],
      "source": [
        "# Matrix / matrix product; both produce the rank 2 array\n",
        "# [[19 22]\n",
        "#  [43 50]]\n",
        "print(x.dot(y))\n",
        "print(np.dot(x, y))\n",
        "print(x @ y)"
      ],
      "id": "8c765c60-9a8b-4d66-b527-762f424089f8"
    },
    {
      "cell_type": "markdown",
      "metadata": {
        "id": "2299d855-ccb1-4041-a476-fd6f46eaab37"
      },
      "source": [
        "Besides for the functions that overload operators, Numpy also provides many useful functions for performing computations on arrays, such as `min()`, `max()`, `sum()`, and others:\n",
        "\n",
        "![](http://jalammar.github.io/images/numpy/numpy-matrix-aggregation-1.png)"
      ],
      "id": "2299d855-ccb1-4041-a476-fd6f46eaab37"
    },
    {
      "cell_type": "code",
      "execution_count": null,
      "metadata": {
        "id": "5d81ba68-434a-4cfe-a67e-a1407acc30ed",
        "colab": {
          "base_uri": "https://localhost:8080/"
        },
        "outputId": "365e8a93-591d-4b83-c3d2-48dd5276e7c0"
      },
      "outputs": [
        {
          "output_type": "stream",
          "name": "stdout",
          "text": [
            "6\n",
            "1\n",
            "21\n"
          ]
        }
      ],
      "source": [
        "x = np.array([[1, 2], [3, 4], [5, 6]])\n",
        "\n",
        "print(np.max(x))  # Compute sum of all elements; prints \"21\"\n",
        "print(np.min(x))  # Compute sum of all elements; prints \"21\"\n",
        "print(np.sum(x))  # Compute sum of all elements; prints \"21\""
      ],
      "id": "5d81ba68-434a-4cfe-a67e-a1407acc30ed"
    },
    {
      "cell_type": "markdown",
      "metadata": {
        "id": "a5f7e6da-183d-4e63-a966-6747a5f801fc"
      },
      "source": [
        "Not only can we aggregate all the values in a matrix using these functions, but we can also aggregate across the rows or columns by using the `axis` parameter:\n",
        "\n",
        "![](http://jalammar.github.io/images/numpy/numpy-matrix-aggregation-4.png)"
      ],
      "id": "a5f7e6da-183d-4e63-a966-6747a5f801fc"
    },
    {
      "cell_type": "code",
      "execution_count": null,
      "metadata": {
        "id": "3947e48c-4838-4146-a818-34a205b42700",
        "colab": {
          "base_uri": "https://localhost:8080/"
        },
        "outputId": "9071e1ee-8180-49d8-e8ea-40caab7a6a31"
      },
      "outputs": [
        {
          "output_type": "stream",
          "name": "stdout",
          "text": [
            "[5 6]\n",
            "[2 5 6]\n"
          ]
        }
      ],
      "source": [
        "x = np.array([[1, 2], [5, 3], [4, 6]])\n",
        "\n",
        "print(np.max(x, axis=0))  # Compute max of each column; prints \"[5 6]\"\n",
        "print(np.max(x, axis=1))  # Compute max of each row; prints \"[2 5 6]\""
      ],
      "id": "3947e48c-4838-4146-a818-34a205b42700"
    },
    {
      "cell_type": "markdown",
      "metadata": {
        "id": "5f85fba3-0bcc-4700-9fd3-0ab8c62a9ae2"
      },
      "source": [
        "You can find the full list of mathematical functions provided by numpy in the [documentation](http://docs.scipy.org/doc/numpy/reference/routines.math.html)."
      ],
      "id": "5f85fba3-0bcc-4700-9fd3-0ab8c62a9ae2"
    },
    {
      "cell_type": "markdown",
      "metadata": {
        "id": "c7127cb3-37ef-4530-b64a-e6f6a6483316"
      },
      "source": [
        "Apart from computing mathematical functions using arrays, we frequently need to reshape or otherwise manipulate data in arrays. The simplest example of this type of operation is transposing a matrix; to transpose a matrix, simply use the T attribute of an array object.\n",
        "\n",
        "![](http://jalammar.github.io/images/numpy/numpy-transpose.png)"
      ],
      "id": "c7127cb3-37ef-4530-b64a-e6f6a6483316"
    },
    {
      "cell_type": "code",
      "execution_count": null,
      "metadata": {
        "id": "4567aa6b-6db5-42b2-b0da-0c62711d05ff",
        "colab": {
          "base_uri": "https://localhost:8080/"
        },
        "outputId": "db987384-1960-47f8-99f4-b5da934b0841"
      },
      "outputs": [
        {
          "output_type": "stream",
          "name": "stdout",
          "text": [
            "[[1 2]\n",
            " [3 4]\n",
            " [5 6]]\n",
            "transpose\n",
            " [[1 3 5]\n",
            " [2 4 6]]\n"
          ]
        }
      ],
      "source": [
        "x = np.array([[1, 2], [3, 4], [5, 6]])\n",
        "\n",
        "print(x)\n",
        "print(\"transpose\\n\", x.T)"
      ],
      "id": "4567aa6b-6db5-42b2-b0da-0c62711d05ff"
    },
    {
      "cell_type": "code",
      "execution_count": null,
      "metadata": {
        "id": "94c8bbdc-b629-48ce-abe2-f01d42d59e31",
        "colab": {
          "base_uri": "https://localhost:8080/"
        },
        "outputId": "d9d3554e-7623-44a9-bef7-0aee2d7e150b"
      },
      "outputs": [
        {
          "output_type": "stream",
          "name": "stdout",
          "text": [
            "[[1 2 3]]\n",
            "transpose\n",
            " [[1]\n",
            " [2]\n",
            " [3]]\n"
          ]
        }
      ],
      "source": [
        "v = np.array([[1,2,3]])\n",
        "print(v )\n",
        "print(\"transpose\\n\", v.T)"
      ],
      "id": "94c8bbdc-b629-48ce-abe2-f01d42d59e31"
    },
    {
      "cell_type": "markdown",
      "metadata": {
        "id": "29c6d9f5-047f-44a5-9981-a1d5ff4b950b"
      },
      "source": [
        "In more advanced use case, you may find yourself needing to change the dimensions of a certain matrix. This is often the case in machine learning applications where a certain model expects a certain shape for the inputs that is different from your dataset. numpy's `reshape()` method is useful in these cases.\n",
        "\n",
        "![](http://jalammar.github.io/images/numpy/numpy-reshape.png)"
      ],
      "id": "29c6d9f5-047f-44a5-9981-a1d5ff4b950b"
    },
    {
      "cell_type": "markdown",
      "metadata": {
        "id": "77dfc26d-762e-450f-800c-a3312102639b"
      },
      "source": [
        "A common task in this class will be to convert a 1D array to a 2D array, and vice versa. We can use `reshape()` for this."
      ],
      "id": "77dfc26d-762e-450f-800c-a3312102639b"
    },
    {
      "cell_type": "markdown",
      "metadata": {
        "id": "c64f9e50-2b1a-4c5c-9543-a27294e8f503"
      },
      "source": [
        "For example, suppose we had this 2D array, but we need to pass it to a function that expects a 1D array."
      ],
      "id": "c64f9e50-2b1a-4c5c-9543-a27294e8f503"
    },
    {
      "cell_type": "code",
      "execution_count": null,
      "metadata": {
        "id": "3bad5c0b-e7cf-4b08-bf93-affe0f7ccf3a",
        "colab": {
          "base_uri": "https://localhost:8080/"
        },
        "outputId": "60952a48-e3a2-43a8-8cae-85c3cf527663"
      },
      "outputs": [
        {
          "output_type": "stream",
          "name": "stdout",
          "text": [
            "[[1]\n",
            " [2]\n",
            " [3]]\n"
          ]
        },
        {
          "output_type": "execute_result",
          "data": {
            "text/plain": [
              "(3, 1)"
            ]
          },
          "metadata": {},
          "execution_count": 92
        }
      ],
      "source": [
        "w = np.array([[1],[2],[3]])\n",
        "print(w)\n",
        "w.shape"
      ],
      "id": "3bad5c0b-e7cf-4b08-bf93-affe0f7ccf3a"
    },
    {
      "cell_type": "markdown",
      "metadata": {
        "id": "48d4afd9-c394-4b96-9a5f-07304dcad908"
      },
      "source": [
        "We can remove the “unnecessary” extra dimension with"
      ],
      "id": "48d4afd9-c394-4b96-9a5f-07304dcad908"
    },
    {
      "cell_type": "code",
      "execution_count": null,
      "metadata": {
        "id": "90009b31-f7c2-43de-bd0f-7738234539a0",
        "colab": {
          "base_uri": "https://localhost:8080/"
        },
        "outputId": "2c1061b3-81cd-44e8-ef46-b0b67c5860ce"
      },
      "outputs": [
        {
          "output_type": "stream",
          "name": "stdout",
          "text": [
            "[1 2 3]\n"
          ]
        },
        {
          "output_type": "execute_result",
          "data": {
            "text/plain": [
              "(3,)"
            ]
          },
          "metadata": {},
          "execution_count": 93
        }
      ],
      "source": [
        "y = w.reshape(-1,)\n",
        "print(y)\n",
        "y.shape"
      ],
      "id": "90009b31-f7c2-43de-bd0f-7738234539a0"
    },
    {
      "cell_type": "markdown",
      "metadata": {
        "id": "66e35dcd-2bce-41f4-81e0-56445eba08c8"
      },
      "source": [
        "Note that we can pass -1 as one dimension and numpy will infer the correct size based on our matrix size!\n",
        "\n",
        "There’s also a `squeeze()` function that removes *all* of the “unnecessary” dimensions (dimensions that have size 1) from an array:"
      ],
      "id": "66e35dcd-2bce-41f4-81e0-56445eba08c8"
    },
    {
      "cell_type": "code",
      "execution_count": null,
      "metadata": {
        "id": "2dade382-8130-4eb2-95da-19c449bd1541",
        "colab": {
          "base_uri": "https://localhost:8080/"
        },
        "outputId": "00a49733-6328-46de-88e3-7f205492c41d"
      },
      "outputs": [
        {
          "output_type": "stream",
          "name": "stdout",
          "text": [
            "[1 2 3]\n"
          ]
        },
        {
          "output_type": "execute_result",
          "data": {
            "text/plain": [
              "(3,)"
            ]
          },
          "metadata": {},
          "execution_count": 94
        }
      ],
      "source": [
        "z = w.squeeze()\n",
        "print(z)\n",
        "z.shape"
      ],
      "id": "2dade382-8130-4eb2-95da-19c449bd1541"
    },
    {
      "cell_type": "markdown",
      "metadata": {
        "id": "d5f33232-3708-45bd-b9c4-f15e31088d28"
      },
      "source": [
        "To go from a 1D to 2D array, we can just add in another dimension of size 1:"
      ],
      "id": "d5f33232-3708-45bd-b9c4-f15e31088d28"
    },
    {
      "cell_type": "code",
      "execution_count": null,
      "metadata": {
        "id": "f5509c9b-730a-4b0e-a3cf-ca8867c7eb40",
        "colab": {
          "base_uri": "https://localhost:8080/"
        },
        "outputId": "27a4fc69-6c53-4a18-e01b-c038c8e7903a"
      },
      "outputs": [
        {
          "output_type": "execute_result",
          "data": {
            "text/plain": [
              "array([[1],\n",
              "       [2],\n",
              "       [3]])"
            ]
          },
          "metadata": {},
          "execution_count": 95
        }
      ],
      "source": [
        "y.reshape((-1,1))"
      ],
      "id": "f5509c9b-730a-4b0e-a3cf-ca8867c7eb40"
    },
    {
      "cell_type": "markdown",
      "metadata": {
        "id": "0f8704e8-7978-4eb7-8913-29a10a3b782d"
      },
      "source": [
        "### Broadcasting"
      ],
      "id": "0f8704e8-7978-4eb7-8913-29a10a3b782d"
    },
    {
      "cell_type": "markdown",
      "metadata": {
        "id": "0e708889-87c5-486a-a341-1d7dc3799d96"
      },
      "source": [
        "Broadcasting is a powerful mechanism that allows numpy to work with arrays of different shapes when performing arithmetic operations."
      ],
      "id": "0e708889-87c5-486a-a341-1d7dc3799d96"
    },
    {
      "cell_type": "markdown",
      "metadata": {
        "id": "b0f3b82e-aa6f-424a-9095-8e5d6a1e3b9a"
      },
      "source": [
        "For example: basic linear algebra, we can only add (and perform similar element-wise operations) two matrics that have the *same* dimension. In numpy, if we want to add two matrics that have different dimensions, numpy will implicitly “extend” the dimension of one matrix to match the other so that we can perform the operation.\n",
        "\n",
        "So these operations will work, instead of returning an error:\n",
        "\n",
        "![](https://sebastianraschka.com/images/blog/2020/numpy-intro/broadcasting-1.png)\n",
        "\n",
        "![](https://sebastianraschka.com/images/blog/2020/numpy-intro/broadcasting-2.png)"
      ],
      "id": "b0f3b82e-aa6f-424a-9095-8e5d6a1e3b9a"
    },
    {
      "cell_type": "markdown",
      "metadata": {
        "id": "6015cc54-7f70-45a4-9646-3a9141065a79"
      },
      "source": [
        "Broadcasting two arrays together follows these rules:\n",
        "\n",
        "**Rule 1**: If the two arrays differ in their number of dimensions, the shape of the one with fewer dimensions is padded with ones on its leading (left) side.\n",
        "\n",
        "For example, in the following cell, `a` will be implicitly extended to shape (1,3):"
      ],
      "id": "6015cc54-7f70-45a4-9646-3a9141065a79"
    },
    {
      "cell_type": "code",
      "execution_count": null,
      "metadata": {
        "id": "efc3dabf-c1ff-47bc-962f-72483b9df19c"
      },
      "outputs": [],
      "source": [
        "a = np.array([1,2,3])         # has shape (3,): one dimension\n",
        "b = np.array([[4], [5], [6]]) # has shape (3,1): two dimensions\n",
        "c = a + b                     # will have shape (3,3) (two dimensions)"
      ],
      "id": "efc3dabf-c1ff-47bc-962f-72483b9df19c"
    },
    {
      "cell_type": "markdown",
      "metadata": {
        "id": "e2857541-b612-4c14-b53e-ce1ff7c310b1"
      },
      "source": [
        "**Rule 2**: If the shape of the two arrays does not match in any dimension, the array with shape equal to 1 in that dimension is stretched to match the other shape.\n",
        "\n",
        "For example, in the following cell `a` will be implicitly extended to shape (3,2):"
      ],
      "id": "e2857541-b612-4c14-b53e-ce1ff7c310b1"
    },
    {
      "cell_type": "code",
      "execution_count": null,
      "metadata": {
        "id": "768f293e-3313-427b-b562-bb97c7993e36"
      },
      "outputs": [],
      "source": [
        "a = np.array([[1],[2],[3]])         # has shape (3,1)\n",
        "b = np.array([[4,5], [6,7], [8,9]]) # has shape (3,2)\n",
        "c = a + b                           # will have shape (3,2)"
      ],
      "id": "768f293e-3313-427b-b562-bb97c7993e36"
    },
    {
      "cell_type": "markdown",
      "metadata": {
        "id": "29e014f8-d59f-41da-899e-454d0cd19150"
      },
      "source": [
        "**Rule 3**: If in any dimension the sizes disagree and neither is equal to 1, an error is raised:"
      ],
      "id": "29e014f8-d59f-41da-899e-454d0cd19150"
    },
    {
      "cell_type": "code",
      "execution_count": null,
      "metadata": {
        "id": "6974202f-ff78-4069-8657-0c821cae933c",
        "colab": {
          "base_uri": "https://localhost:8080/",
          "height": 219
        },
        "outputId": "79fb5bc1-85b4-4204-a1f1-7710ea84b065"
      },
      "outputs": [
        {
          "output_type": "error",
          "ename": "ValueError",
          "evalue": "ignored",
          "traceback": [
            "\u001b[0;31m---------------------------------------------------------------------------\u001b[0m",
            "\u001b[0;31mValueError\u001b[0m                                Traceback (most recent call last)",
            "\u001b[0;32m<ipython-input-98-d74fb6975e94>\u001b[0m in \u001b[0;36m<cell line: 3>\u001b[0;34m()\u001b[0m\n\u001b[1;32m      1\u001b[0m \u001b[0ma\u001b[0m \u001b[0;34m=\u001b[0m \u001b[0mnp\u001b[0m\u001b[0;34m.\u001b[0m\u001b[0marray\u001b[0m\u001b[0;34m(\u001b[0m\u001b[0;34m[\u001b[0m\u001b[0;34m[\u001b[0m\u001b[0;36m1\u001b[0m\u001b[0;34m]\u001b[0m\u001b[0;34m,\u001b[0m\u001b[0;34m[\u001b[0m\u001b[0;36m2\u001b[0m\u001b[0;34m]\u001b[0m\u001b[0;34m,\u001b[0m\u001b[0;34m[\u001b[0m\u001b[0;36m3\u001b[0m\u001b[0;34m]\u001b[0m\u001b[0;34m,\u001b[0m\u001b[0;34m[\u001b[0m\u001b[0;36m4\u001b[0m\u001b[0;34m]\u001b[0m\u001b[0;34m]\u001b[0m\u001b[0;34m)\u001b[0m      \u001b[0;31m# has shape (4,1)\u001b[0m\u001b[0;34m\u001b[0m\u001b[0;34m\u001b[0m\u001b[0m\n\u001b[1;32m      2\u001b[0m \u001b[0mb\u001b[0m \u001b[0;34m=\u001b[0m \u001b[0mnp\u001b[0m\u001b[0;34m.\u001b[0m\u001b[0marray\u001b[0m\u001b[0;34m(\u001b[0m\u001b[0;34m[\u001b[0m\u001b[0;34m[\u001b[0m\u001b[0;36m4\u001b[0m\u001b[0;34m,\u001b[0m\u001b[0;36m5\u001b[0m\u001b[0;34m]\u001b[0m\u001b[0;34m,\u001b[0m \u001b[0;34m[\u001b[0m\u001b[0;36m6\u001b[0m\u001b[0;34m,\u001b[0m\u001b[0;36m7\u001b[0m\u001b[0;34m]\u001b[0m\u001b[0;34m,\u001b[0m \u001b[0;34m[\u001b[0m\u001b[0;36m8\u001b[0m\u001b[0;34m,\u001b[0m\u001b[0;36m9\u001b[0m\u001b[0;34m]\u001b[0m\u001b[0;34m]\u001b[0m\u001b[0;34m)\u001b[0m  \u001b[0;31m# has shape (3,2)\u001b[0m\u001b[0;34m\u001b[0m\u001b[0;34m\u001b[0m\u001b[0m\n\u001b[0;32m----> 3\u001b[0;31m \u001b[0mc\u001b[0m \u001b[0;34m=\u001b[0m \u001b[0ma\u001b[0m \u001b[0;34m+\u001b[0m \u001b[0mb\u001b[0m                            \u001b[0;31m# ValueError: operands could not be broadcast\u001b[0m\u001b[0;34m\u001b[0m\u001b[0;34m\u001b[0m\u001b[0m\n\u001b[0m",
            "\u001b[0;31mValueError\u001b[0m: operands could not be broadcast together with shapes (4,1) (3,2) "
          ]
        }
      ],
      "source": [
        "a = np.array([[1],[2],[3],[4]])      # has shape (4,1)\n",
        "b = np.array([[4,5], [6,7], [8,9]])  # has shape (3,2)\n",
        "c = a + b                            # ValueError: operands could not be broadcast"
      ],
      "id": "6974202f-ff78-4069-8657-0c821cae933c"
    },
    {
      "cell_type": "markdown",
      "metadata": {
        "id": "9caaedad-ab89-4862-9f09-2e0372a179e3"
      },
      "source": [
        "For more detail, you can read the explanation from the [documentation](http://docs.scipy.org/doc/numpy/user/basics.broadcasting.html)."
      ],
      "id": "9caaedad-ab89-4862-9f09-2e0372a179e3"
    },
    {
      "cell_type": "markdown",
      "metadata": {
        "id": "d7e74511-e32d-4fc7-82a6-cf35b2c52bcd"
      },
      "source": [
        "Functions that support broadcasting are known as universal functions. You can find the list of all universal functions in the [documentation](http://docs.scipy.org/doc/numpy/reference/ufuncs.html#available-ufuncs)."
      ],
      "id": "d7e74511-e32d-4fc7-82a6-cf35b2c52bcd"
    },
    {
      "cell_type": "markdown",
      "metadata": {
        "id": "f681fb95-f177-4f9e-948e-4ef5e9249ef0"
      },
      "source": [
        "Here are a few visual examples involving broadcasting.\n",
        "\n",
        "![](http://jalammar.github.io/images/numpy/numpy-array-broadcast.png)\n",
        "\n",
        "Note that these arrays are compatible in each dimension if they have either the same size in that dimension, or if one array has size 1 in that dimension.\n",
        "\n",
        "![](http://jalammar.github.io/images/numpy/numpy-matrix-broadcast.png)"
      ],
      "id": "f681fb95-f177-4f9e-948e-4ef5e9249ef0"
    },
    {
      "cell_type": "markdown",
      "metadata": {
        "id": "c8e9d82e-c9d6-465b-9385-f73c263d87b7"
      },
      "source": [
        "And here are some more practical applications:"
      ],
      "id": "c8e9d82e-c9d6-465b-9385-f73c263d87b7"
    },
    {
      "cell_type": "code",
      "execution_count": null,
      "metadata": {
        "id": "6044981a-2230-4a62-8a87-f4d96e0bea98",
        "colab": {
          "base_uri": "https://localhost:8080/"
        },
        "outputId": "67dfc70e-d7cb-4853-9174-d1e76c5735d0"
      },
      "outputs": [
        {
          "output_type": "stream",
          "name": "stdout",
          "text": [
            "[[ 4  5]\n",
            " [ 8 10]\n",
            " [12 15]]\n"
          ]
        }
      ],
      "source": [
        "# Compute outer product of vectors\n",
        "v = np.array([1,2,3])  # v has shape (3,)\n",
        "w = np.array([4,5])    # w has shape (2,)\n",
        "# To compute an outer product, we first reshape v to be a column\n",
        "# vector of shape (3, 1); we can then broadcast it against w to yield\n",
        "# an output of shape (3, 2), which is the outer product of v and w:\n",
        "\n",
        "print(np.reshape(v, (3, 1)) * w)"
      ],
      "id": "6044981a-2230-4a62-8a87-f4d96e0bea98"
    },
    {
      "cell_type": "code",
      "execution_count": null,
      "metadata": {
        "id": "287261b5-4ab4-4d62-acaa-2b12a3ebbd50",
        "colab": {
          "base_uri": "https://localhost:8080/"
        },
        "outputId": "a79b9d94-fadf-4bc4-a772-56964f618079"
      },
      "outputs": [
        {
          "output_type": "stream",
          "name": "stdout",
          "text": [
            "[[2 4 6]\n",
            " [5 7 9]]\n"
          ]
        }
      ],
      "source": [
        "# Add a vector to each row of a matrix\n",
        "x = np.array([[1,2,3], [4,5,6]])\n",
        "# x has shape (2, 3) and v has shape (3,) so they broadcast to (2, 3),\n",
        "# giving the following matrix:\n",
        "\n",
        "print(x + v)"
      ],
      "id": "287261b5-4ab4-4d62-acaa-2b12a3ebbd50"
    },
    {
      "cell_type": "code",
      "execution_count": null,
      "metadata": {
        "id": "29506514-8808-45d8-aaa9-c4150d9ba641",
        "colab": {
          "base_uri": "https://localhost:8080/"
        },
        "outputId": "5b3a47bb-aa5b-4cab-e8a3-395181a2fc0d"
      },
      "outputs": [
        {
          "output_type": "stream",
          "name": "stdout",
          "text": [
            "[[ 5  6  7]\n",
            " [ 9 10 11]]\n"
          ]
        }
      ],
      "source": [
        "# Add a vector to each column of a matrix\n",
        "# x has shape (2, 3) and w has shape (2,).\n",
        "# If we transpose x then it has shape (3, 2) and can be broadcast\n",
        "# against w to yield a result of shape (3, 2); transposing this result\n",
        "# yields the final result of shape (2, 3) which is the matrix x with\n",
        "# the vector w added to each column. Gives the following matrix:\n",
        "\n",
        "print((x.T + w).T)"
      ],
      "id": "29506514-8808-45d8-aaa9-c4150d9ba641"
    },
    {
      "cell_type": "code",
      "execution_count": null,
      "metadata": {
        "id": "85f8f0d4-8eec-4368-973a-77f50b7c3e31",
        "colab": {
          "base_uri": "https://localhost:8080/"
        },
        "outputId": "7d32b89d-53d1-44b1-ba81-4ac6efa4583f"
      },
      "outputs": [
        {
          "output_type": "stream",
          "name": "stdout",
          "text": [
            "[[ 5  6  7]\n",
            " [ 9 10 11]]\n"
          ]
        }
      ],
      "source": [
        "# Another solution is to reshape w to be a row vector of shape (2, 1);\n",
        "# we can then broadcast it directly against x to produce the same\n",
        "# output.\n",
        "print(x + np.reshape(w, (2, 1)))"
      ],
      "id": "85f8f0d4-8eec-4368-973a-77f50b7c3e31"
    },
    {
      "cell_type": "code",
      "execution_count": null,
      "metadata": {
        "id": "a1935f6a-0407-4c5e-92fd-2760d5cd95b9",
        "colab": {
          "base_uri": "https://localhost:8080/"
        },
        "outputId": "aea3d3e6-9961-4757-e98a-ac12066b95db"
      },
      "outputs": [
        {
          "output_type": "stream",
          "name": "stdout",
          "text": [
            "[[ 2  4  6]\n",
            " [ 8 10 12]]\n"
          ]
        }
      ],
      "source": [
        "# Multiply a matrix by a constant:\n",
        "# x has shape (2, 3). Numpy treats scalars as arrays of shape ();\n",
        "# these can be broadcast together to shape (2, 3), producing the\n",
        "# following array:\n",
        "print(x * 2)"
      ],
      "id": "a1935f6a-0407-4c5e-92fd-2760d5cd95b9"
    },
    {
      "cell_type": "markdown",
      "metadata": {
        "id": "2b73ff24-5a84-4e22-b1b9-2723b8332912"
      },
      "source": [
        "Broadcasting typically makes your code more concise and faster, so you should strive to use it where possible."
      ],
      "id": "2b73ff24-5a84-4e22-b1b9-2723b8332912"
    },
    {
      "cell_type": "markdown",
      "metadata": {
        "id": "6e047180-5fe5-45f5-8d82-a6a4c8d10f04"
      },
      "source": [
        "This brief overview has touched on many of the important things that you need to know about numpy, but is far from complete. Check out the [numpy reference](http://docs.scipy.org/doc/numpy/reference/) to find out much more about numpy."
      ],
      "id": "6e047180-5fe5-45f5-8d82-a6a4c8d10f04"
    },
    {
      "cell_type": "markdown",
      "metadata": {
        "id": "935ce35a-6b42-4613-9541-dd5d71d288c9"
      },
      "source": [
        "## Matplotlib"
      ],
      "id": "935ce35a-6b42-4613-9541-dd5d71d288c9"
    },
    {
      "cell_type": "markdown",
      "metadata": {
        "id": "c5edd8bf-e9a2-4984-b3a8-fc70b58998d6"
      },
      "source": [
        "Matplotlib is a plotting library. In this section we give a brief introduction to the `matplotlib.pyplot` module, which provides a plotting system similar to that of MATLAB.\n",
        "\n",
        "By convention, we typically import this module using the `plt` alias:"
      ],
      "id": "c5edd8bf-e9a2-4984-b3a8-fc70b58998d6"
    },
    {
      "cell_type": "code",
      "execution_count": null,
      "metadata": {
        "id": "457d7dbe-afa3-4cce-8bf0-d7866b3f3bf6"
      },
      "outputs": [],
      "source": [
        "import matplotlib.pyplot as plt"
      ],
      "id": "457d7dbe-afa3-4cce-8bf0-d7866b3f3bf6"
    },
    {
      "cell_type": "markdown",
      "metadata": {
        "id": "df98cf73-84c8-4c5f-8797-01c75e068b79"
      },
      "source": [
        "### Plotting"
      ],
      "id": "df98cf73-84c8-4c5f-8797-01c75e068b79"
    },
    {
      "cell_type": "markdown",
      "metadata": {
        "id": "a4b6d3e8-e3dd-49b6-bddb-b4492131f96b"
      },
      "source": [
        "The most important function in `matplotlib` is `plot`, which allows you to plot 2D data as a line plot. Here is a simple example:"
      ],
      "id": "a4b6d3e8-e3dd-49b6-bddb-b4492131f96b"
    },
    {
      "cell_type": "code",
      "execution_count": null,
      "metadata": {
        "id": "0b92c56c-7cc5-42b6-b9ef-0a7e3abcfdb0",
        "colab": {
          "base_uri": "https://localhost:8080/",
          "height": 430
        },
        "outputId": "57160316-5b6b-407c-b5ac-ad81761f9bcb"
      },
      "outputs": [
        {
          "output_type": "display_data",
          "data": {
            "text/plain": [
              "<Figure size 640x480 with 1 Axes>"
            ],
            "image/png": "[encoded data removed]"
          },
          "metadata": {}
        }
      ],
      "source": [
        "# Compute the x and y coordinates for points on a sine curve\n",
        "x = np.arange(0, 3 * np.pi, 0.1)\n",
        "y = np.sin(x)\n",
        "\n",
        "# Plot the points using matplotlib\n",
        "plt.plot(x, y)\n",
        "\n",
        "# Show the figure.\n",
        "plt.show()"
      ],
      "id": "0b92c56c-7cc5-42b6-b9ef-0a7e3abcfdb0"
    },
    {
      "cell_type": "markdown",
      "metadata": {
        "id": "5999c3ff-45d9-4a69-869a-264c8a3e0bb3"
      },
      "source": [
        "With just a little bit of extra work we can easily plot multiple lines at once, and add a title, legend, and axis labels:"
      ],
      "id": "5999c3ff-45d9-4a69-869a-264c8a3e0bb3"
    },
    {
      "cell_type": "code",
      "execution_count": null,
      "metadata": {
        "id": "617b90b2-1bab-4cde-9501-c81d80a0d63b",
        "colab": {
          "base_uri": "https://localhost:8080/",
          "height": 472
        },
        "outputId": "b3b1bc0d-7201-47aa-c5e2-2087ede727a9"
      },
      "outputs": [
        {
          "output_type": "display_data",
          "data": {
            "text/plain": [
              "<Figure size 640x480 with 1 Axes>"
            ],
            "image/png": "[encoded data removed]"
          },
          "metadata": {}
        }
      ],
      "source": [
        "y_sin = np.sin(x)\n",
        "y_cos = np.cos(x)\n",
        "\n",
        "# Plot the points using matplotlib\n",
        "plt.plot(x, y_sin, label='Sine')\n",
        "plt.plot(x, y_cos, label='Cosine')\n",
        "plt.legend() # uses the label arguments given above\n",
        "\n",
        "plt.xlabel('x axis label')\n",
        "plt.ylabel('y axis label')\n",
        "plt.title('Sine and Cosine')\n",
        "\n",
        "# Show the figure.\n",
        "plt.show()"
      ],
      "id": "617b90b2-1bab-4cde-9501-c81d80a0d63b"
    },
    {
      "cell_type": "markdown",
      "metadata": {
        "id": "7f343cd5-2337-4d22-911f-840b990daf42"
      },
      "source": [
        "Another useful, basic, plot is the `scatter` plot:"
      ],
      "id": "7f343cd5-2337-4d22-911f-840b990daf42"
    },
    {
      "cell_type": "code",
      "execution_count": null,
      "metadata": {
        "id": "ff968f32-b389-4954-95a6-c7a07854dbc2",
        "colab": {
          "base_uri": "https://localhost:8080/",
          "height": 430
        },
        "outputId": "9f678073-31e4-4b1a-c4c1-ea81dc737522"
      },
      "outputs": [
        {
          "output_type": "display_data",
          "data": {
            "text/plain": [
              "<Figure size 640x480 with 1 Axes>"
            ],
            "image/png": "[encoded data removed]"
          },
          "metadata": {}
        }
      ],
      "source": [
        "x = np.random.rand(50)\n",
        "y = np.random.rand(50)\n",
        "colors = np.random.randint(0, 2, 50)\n",
        "\n",
        "plt.scatter(x, y, c=colors)\n",
        "\n",
        "plt.show()"
      ],
      "id": "ff968f32-b389-4954-95a6-c7a07854dbc2"
    },
    {
      "cell_type": "markdown",
      "metadata": {
        "id": "00dc8d2b-2a14-4e00-ab36-a271470228e9"
      },
      "source": [
        "When there is no logical connection between adjacent points (for example: if the horizontal axis is a categorical variable without a logical order), then you should *not* connect them (as in a line plot), since this implies a relationship that does not exist! Instead, you would use a scatter plot."
      ],
      "id": "00dc8d2b-2a14-4e00-ab36-a271470228e9"
    },
    {
      "cell_type": "markdown",
      "metadata": {
        "id": "c70bb758-7d8c-43cb-9391-1bca09115f5d"
      },
      "source": [
        "### Subplots"
      ],
      "id": "c70bb758-7d8c-43cb-9391-1bca09115f5d"
    },
    {
      "cell_type": "markdown",
      "metadata": {
        "id": "297e1b0b-b1cc-45fc-898d-592ac86dc0c9"
      },
      "source": [
        "You can plot different things in the same figure using the `subplot` function. Here is an example:"
      ],
      "id": "297e1b0b-b1cc-45fc-898d-592ac86dc0c9"
    },
    {
      "cell_type": "code",
      "execution_count": null,
      "metadata": {
        "id": "389f255e-7bcc-4247-ad17-938b430d54fc",
        "colab": {
          "base_uri": "https://localhost:8080/",
          "height": 452
        },
        "outputId": "92ba818f-e90e-40c6-c9a9-96b9057fe60b"
      },
      "outputs": [
        {
          "output_type": "display_data",
          "data": {
            "text/plain": [
              "<Figure size 640x480 with 2 Axes>"
            ],
            "image/png": "[encoded data removed]"
          },
          "metadata": {}
        }
      ],
      "source": [
        "# Compute the x and y coordinates for points on sine and cosine curves\n",
        "x = np.arange(0, 3 * np.pi, 0.1)\n",
        "y_sin = np.sin(x)\n",
        "y_cos = np.cos(x)\n",
        "\n",
        "# Set up a subplot grid that has height 2 and width 1,\n",
        "# and set the first such subplot as active.\n",
        "plt.subplot(2, 1, 1)\n",
        "\n",
        "# Make the first plot\n",
        "plt.plot(x, y_sin)\n",
        "plt.title('Sine')\n",
        "\n",
        "# Set the second subplot as active, and make the second plot.\n",
        "plt.subplot(2, 1, 2)\n",
        "plt.plot(x, y_cos)\n",
        "plt.title('Cosine')\n",
        "\n",
        "# Adjust spacing between subplots\n",
        "plt.subplots_adjust(hspace = 0.4)\n",
        "\n",
        "# Show the figure.\n",
        "plt.show()"
      ],
      "id": "389f255e-7bcc-4247-ad17-938b430d54fc"
    },
    {
      "cell_type": "markdown",
      "metadata": {
        "id": "42d40033-97a0-41f8-9cea-6a17abe90cfc"
      },
      "source": [
        "You can read much more about the `subplot` function in the [documentation](http://matplotlib.org/api/pyplot_api.html#matplotlib.pyplot.subplot)."
      ],
      "id": "42d40033-97a0-41f8-9cea-6a17abe90cfc"
    },
    {
      "cell_type": "markdown",
      "metadata": {
        "id": "a8feaa88-b6f6-46d4-a7a0-a88c23446689"
      },
      "source": [
        "You can use the `imshow` function to display images from a file. Here is an example:"
      ],
      "id": "a8feaa88-b6f6-46d4-a7a0-a88c23446689"
    },
    {
      "cell_type": "code",
      "execution_count": null,
      "metadata": {
        "id": "eb819f5b-14f9-4af1-bdd7-80ff92d5cfbd",
        "colab": {
          "base_uri": "https://localhost:8080/",
          "height": 435
        },
        "outputId": "79de84fc-3e27-4e9c-b08c-5241e22527c8"
      },
      "outputs": [
        {
          "output_type": "display_data",
          "data": {
            "text/plain": [
              "<Figure size 640x480 with 1 Axes>"
            ],
            "image/png": "[encoded data removed]"
          },
          "metadata": {}
        }
      ],
      "source": [
        "from matplotlib.cbook import get_sample_data\n",
        "\n",
        "img_file = get_sample_data('grace_hopper.jpg')\n",
        "\n",
        "img = plt.imread(img_file)\n",
        "plt.imshow(img)\n",
        "plt.show()"
      ],
      "id": "eb819f5b-14f9-4af1-bdd7-80ff92d5cfbd"
    },
    {
      "cell_type": "markdown",
      "metadata": {
        "id": "61243645-57d7-43f2-a013-9fa6215a57cb"
      },
      "source": [
        "The `matplotlib` library is very flexible, and you can create virtually any plot and modify its appearance in any way you might think of. If you don’t like the way your plot looks, fix it! Use the [documentation](http://matplotlib.org/api/pyplot_api.html) to learn more."
      ],
      "id": "61243645-57d7-43f2-a013-9fa6215a57cb"
    }
  ],
  "nbformat": 4,
  "nbformat_minor": 5,
  "metadata": {
    "colab": {
      "provenance": [],
      "include_colab_link": true
    },
    "language_info": {
      "name": "python"
    },
    "kernelspec": {
      "name": "python3",
      "display_name": "Python 3"
    }
  }
}